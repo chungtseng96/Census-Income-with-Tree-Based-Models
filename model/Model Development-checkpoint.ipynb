{
 "cells": [
  {
   "cell_type": "markdown",
   "metadata": {},
   "source": [
    "# Model Development "
   ]
  },
  {
   "cell_type": "code",
<<<<<<< HEAD
   "execution_count": 1,
=======
   "execution_count": 110,
>>>>>>> dbdc02e1762b98da432f4942fdf287d0f861642b
   "metadata": {},
   "outputs": [],
   "source": [
    "#Import basic packages\n",
    "import pandas as pd \n",
    "import numpy as np \n",
    "import seaborn as sns\n",
    "import matplotlib.pyplot as plt\n",
    "import seaborn as sns"
   ]
  },
  {
   "cell_type": "code",
<<<<<<< HEAD
   "execution_count": 2,
=======
   "execution_count": 111,
>>>>>>> dbdc02e1762b98da432f4942fdf287d0f861642b
   "metadata": {},
   "outputs": [
    {
     "data": {
      "text/html": [
       "<div>\n",
       "<style scoped>\n",
       "    .dataframe tbody tr th:only-of-type {\n",
       "        vertical-align: middle;\n",
       "    }\n",
       "\n",
       "    .dataframe tbody tr th {\n",
       "        vertical-align: top;\n",
       "    }\n",
       "\n",
       "    .dataframe thead th {\n",
       "        text-align: right;\n",
       "    }\n",
       "</style>\n",
       "<table border=\"1\" class=\"dataframe\">\n",
       "  <thead>\n",
       "    <tr style=\"text-align: right;\">\n",
       "      <th></th>\n",
       "      <th>age</th>\n",
       "      <th>workclass</th>\n",
       "      <th>fnlwgt</th>\n",
       "      <th>education</th>\n",
       "      <th>education-num</th>\n",
       "      <th>marital-status</th>\n",
       "      <th>occupation</th>\n",
       "      <th>relationship</th>\n",
       "      <th>race</th>\n",
       "      <th>sex</th>\n",
       "      <th>capitalgain</th>\n",
       "      <th>capitalloss</th>\n",
       "      <th>hoursperweek</th>\n",
       "      <th>native-country</th>\n",
       "      <th>class</th>\n",
       "    </tr>\n",
       "  </thead>\n",
       "  <tbody>\n",
       "    <tr>\n",
       "      <th>0</th>\n",
       "      <td>2</td>\n",
       "      <td>State-gov</td>\n",
       "      <td>77516</td>\n",
       "      <td>Bachelors</td>\n",
       "      <td>13</td>\n",
       "      <td>Never-married</td>\n",
       "      <td>Adm-clerical</td>\n",
       "      <td>Not-in-family</td>\n",
       "      <td>White</td>\n",
       "      <td>Male</td>\n",
       "      <td>1</td>\n",
       "      <td>0</td>\n",
       "      <td>2</td>\n",
       "      <td>United-States</td>\n",
       "      <td>&lt;=50K</td>\n",
       "    </tr>\n",
       "    <tr>\n",
       "      <th>1</th>\n",
       "      <td>3</td>\n",
       "      <td>Self-emp-not-inc</td>\n",
       "      <td>83311</td>\n",
       "      <td>Bachelors</td>\n",
       "      <td>13</td>\n",
       "      <td>Married-civ-spouse</td>\n",
       "      <td>Exec-managerial</td>\n",
       "      <td>Husband</td>\n",
       "      <td>White</td>\n",
       "      <td>Male</td>\n",
       "      <td>0</td>\n",
       "      <td>0</td>\n",
       "      <td>0</td>\n",
       "      <td>United-States</td>\n",
       "      <td>&lt;=50K</td>\n",
       "    </tr>\n",
       "    <tr>\n",
       "      <th>2</th>\n",
       "      <td>2</td>\n",
       "      <td>Private</td>\n",
       "      <td>215646</td>\n",
       "      <td>HS-grad</td>\n",
       "      <td>9</td>\n",
       "      <td>Divorced</td>\n",
       "      <td>Handlers-cleaners</td>\n",
       "      <td>Not-in-family</td>\n",
       "      <td>White</td>\n",
       "      <td>Male</td>\n",
       "      <td>0</td>\n",
       "      <td>0</td>\n",
       "      <td>2</td>\n",
       "      <td>United-States</td>\n",
       "      <td>&lt;=50K</td>\n",
       "    </tr>\n",
       "    <tr>\n",
       "      <th>3</th>\n",
       "      <td>3</td>\n",
       "      <td>Private</td>\n",
       "      <td>234721</td>\n",
       "      <td>11th</td>\n",
       "      <td>7</td>\n",
       "      <td>Married-civ-spouse</td>\n",
       "      <td>Handlers-cleaners</td>\n",
       "      <td>Husband</td>\n",
       "      <td>Black</td>\n",
       "      <td>Male</td>\n",
       "      <td>0</td>\n",
       "      <td>0</td>\n",
       "      <td>2</td>\n",
       "      <td>United-States</td>\n",
       "      <td>&lt;=50K</td>\n",
       "    </tr>\n",
       "    <tr>\n",
       "      <th>4</th>\n",
       "      <td>1</td>\n",
       "      <td>Private</td>\n",
       "      <td>338409</td>\n",
       "      <td>Bachelors</td>\n",
       "      <td>13</td>\n",
       "      <td>Married-civ-spouse</td>\n",
       "      <td>Prof-specialty</td>\n",
       "      <td>Wife</td>\n",
       "      <td>Black</td>\n",
       "      <td>Female</td>\n",
       "      <td>0</td>\n",
       "      <td>0</td>\n",
       "      <td>2</td>\n",
       "      <td>Cuba</td>\n",
       "      <td>&lt;=50K</td>\n",
       "    </tr>\n",
       "  </tbody>\n",
       "</table>\n",
       "</div>"
      ],
      "text/plain": [
       "   age         workclass  fnlwgt  education  education-num  \\\n",
       "0    2         State-gov   77516  Bachelors             13   \n",
       "1    3  Self-emp-not-inc   83311  Bachelors             13   \n",
       "2    2           Private  215646    HS-grad              9   \n",
       "3    3           Private  234721       11th              7   \n",
       "4    1           Private  338409  Bachelors             13   \n",
       "\n",
       "       marital-status         occupation   relationship   race     sex  \\\n",
       "0       Never-married       Adm-clerical  Not-in-family  White    Male   \n",
       "1  Married-civ-spouse    Exec-managerial        Husband  White    Male   \n",
       "2            Divorced  Handlers-cleaners  Not-in-family  White    Male   \n",
       "3  Married-civ-spouse  Handlers-cleaners        Husband  Black    Male   \n",
       "4  Married-civ-spouse     Prof-specialty           Wife  Black  Female   \n",
       "\n",
       "   capitalgain  capitalloss  hoursperweek native-country  class  \n",
       "0            1            0             2  United-States  <=50K  \n",
       "1            0            0             0  United-States  <=50K  \n",
       "2            0            0             2  United-States  <=50K  \n",
       "3            0            0             2  United-States  <=50K  \n",
       "4            0            0             2           Cuba  <=50K  "
      ]
     },
<<<<<<< HEAD
     "execution_count": 2,
=======
     "execution_count": 111,
>>>>>>> dbdc02e1762b98da432f4942fdf287d0f861642b
     "metadata": {},
     "output_type": "execute_result"
    }
   ],
   "source": [
    "file = '//Users//chung-tsengwang//Desktop//Github Repo//Census-Income-with-Tree-Based-Models//data//processed//processed.csv'\n",
    "#file = 'C:\\\\Users\\\\Chung-Tseng Wang\\\\Desktop\\\\Census-Income-with-Tree-Based-Models\\\\data\\\\processed\\\\processed.csv'\n",
    "adult = pd.read_csv(file)\n",
    "adult = adult.drop(['Unnamed: 0'], axis = 1)\n",
    "adult.head()"
   ]
  },
  {
   "cell_type": "code",
<<<<<<< HEAD
   "execution_count": 3,
=======
   "execution_count": 112,
>>>>>>> dbdc02e1762b98da432f4942fdf287d0f861642b
   "metadata": {},
   "outputs": [
    {
     "name": "stdout",
     "output_type": "stream",
     "text": [
      "<class 'pandas.core.frame.DataFrame'>\n",
      "RangeIndex: 48842 entries, 0 to 48841\n",
      "Data columns (total 15 columns):\n",
      "age               48842 non-null int64\n",
      "workclass         48842 non-null object\n",
      "fnlwgt            48842 non-null int64\n",
      "education         48842 non-null object\n",
      "education-num     48842 non-null int64\n",
      "marital-status    48842 non-null object\n",
      "occupation        48842 non-null object\n",
      "relationship      48842 non-null object\n",
      "race              48842 non-null object\n",
      "sex               48842 non-null object\n",
      "capitalgain       48842 non-null int64\n",
      "capitalloss       48842 non-null int64\n",
      "hoursperweek      48842 non-null int64\n",
      "native-country    48842 non-null object\n",
      "class             48842 non-null object\n",
      "dtypes: int64(6), object(9)\n",
      "memory usage: 5.6+ MB\n"
     ]
    }
   ],
   "source": [
    "adult.info()"
   ]
  },
  {
   "cell_type": "code",
<<<<<<< HEAD
   "execution_count": 4,
=======
   "execution_count": 113,
>>>>>>> dbdc02e1762b98da432f4942fdf287d0f861642b
   "metadata": {},
   "outputs": [],
   "source": [
    "#Seperating target variable from the rest of the features\n",
    "adult_data = adult.drop(columns = ['class'])\n",
    "adult_label = adult['class']"
   ]
  },
  {
   "cell_type": "code",
<<<<<<< HEAD
   "execution_count": 5,
=======
   "execution_count": 114,
>>>>>>> dbdc02e1762b98da432f4942fdf287d0f861642b
   "metadata": {},
   "outputs": [],
   "source": [
    "#Binarize target label\n",
    "from sklearn.preprocessing import LabelBinarizer \n",
    "Binarizer = LabelBinarizer()\n",
    "adult_label = Binarizer.fit_transform(adult_label)"
   ]
  },
  {
   "cell_type": "code",
<<<<<<< HEAD
   "execution_count": 6,
=======
   "execution_count": 115,
>>>>>>> dbdc02e1762b98da432f4942fdf287d0f861642b
   "metadata": {},
   "outputs": [],
   "source": [
    "#Converting all categorical features into dummy variables\n",
    "adult_cat = pd.get_dummies(adult_data.select_dtypes('object'))\n",
    "adult_noncat = adult_data.select_dtypes(exclude = 'object')\n",
    "\n",
    "adult_data = pd.concat([adult_noncat, adult_cat], axis = 1, join = 'inner')"
   ]
  },
  {
   "cell_type": "code",
<<<<<<< HEAD
   "execution_count": 62,
=======
   "execution_count": 116,
>>>>>>> dbdc02e1762b98da432f4942fdf287d0f861642b
   "metadata": {},
   "outputs": [],
   "source": [
    "#Train Test Split\n",
    "from sklearn.model_selection import train_test_split\n",
    "X_train, X_test, y_train, y_test = train_test_split(adult_data, adult_label, test_size = 0.3, random_state = 21)"
   ]
  },
  {
   "cell_type": "code",
<<<<<<< HEAD
   "execution_count": 8,
=======
   "execution_count": 117,
>>>>>>> dbdc02e1762b98da432f4942fdf287d0f861642b
   "metadata": {},
   "outputs": [],
   "source": [
    "#Standard Scaler \n",
    "#from sklearn.preprocessing import StandardScaler \n",
    "#scaler = StandardScaler()\n",
    "#X_train = scaler.fit_transform(X_train)\n",
    "#y_train = scaler.fit_transform(y_train)"
   ]
  },
  {
   "cell_type": "code",
<<<<<<< HEAD
   "execution_count": 9,
=======
   "execution_count": 118,
>>>>>>> dbdc02e1762b98da432f4942fdf287d0f861642b
   "metadata": {},
   "outputs": [],
   "source": [
    "#Model Evaluation Function \n",
    "from sklearn.metrics import confusion_matrix\n",
    "def model_eval(true, pred):\n",
    "    #Confusion Matrix \n",
    "    true = true.reshape(len(true),)\n",
    "    tn, fp, fn, tp = confusion_matrix(true, pred).ravel()\n",
    "    #Output \n",
    "    output = {}\n",
    "    output['accuracy'] = ((tp+tn))/(tp+fn+fp+tn)\n",
    "    output['precision'] = (tp)/(tp+fp)\n",
    "    output['recall'] = (tp)/(tp+fn)\n",
    "    output['f_measure'] = (2*output['recall']*output['precision'])/(output['recall']+output['precision'])\n",
    "    output['sensitivity'] = tp / (tp + fn)\n",
    "    output['specificity'] = tn / (tn + fp)\n",
    "    output['error_rate'] = 1 - output['accuracy']\n",
    "    \n",
    "    return output"
   ]
  },
  {
   "cell_type": "markdown",
   "metadata": {},
   "source": [
    "## Building Decision Tree"
   ]
  },
  {
   "cell_type": "code",
<<<<<<< HEAD
   "execution_count": 10,
=======
   "execution_count": 136,
>>>>>>> dbdc02e1762b98da432f4942fdf287d0f861642b
   "metadata": {},
   "outputs": [
    {
     "data": {
      "text/plain": [
       "{'accuracy': 0.8261789394663209,\n",
       " 'precision': 0.7328280435812411,\n",
       " 'recall': 0.4382436260623229,\n",
       " 'f_measure': 0.5484843112923239,\n",
       " 'sensitivity': 0.4382436260623229,\n",
       " 'specificity': 0.9492942551469927,\n",
       " 'error_rate': 0.17382106053367907}"
      ]
     },
<<<<<<< HEAD
     "execution_count": 10,
=======
     "execution_count": 136,
>>>>>>> dbdc02e1762b98da432f4942fdf287d0f861642b
     "metadata": {},
     "output_type": "execute_result"
    }
   ],
   "source": [
    "#Training Decision Tree Classifier\n",
    "from sklearn.tree import DecisionTreeClassifier\n",
    "tree_clf_1 = DecisionTreeClassifier(max_depth = 2)\n",
    "tree_clf_1.fit(X_train, y_train)\n",
    "tree_clf_1_pred = tree_clf_1.predict(X_test)\n",
    "tree1_res = model_eval(y_test, tree_clf_1_pred)\n",
    "tree1_res"
   ]
  },
  {
   "cell_type": "code",
<<<<<<< HEAD
   "execution_count": 11,
   "metadata": {},
   "outputs": [
    {
     "ename": "NameError",
     "evalue": "name 'tree_clf' is not defined",
     "output_type": "error",
     "traceback": [
      "\u001b[1;31m---------------------------------------------------------------------------\u001b[0m",
      "\u001b[1;31mNameError\u001b[0m                                 Traceback (most recent call last)",
      "\u001b[1;32m<ipython-input-11-dee2891319ab>\u001b[0m in \u001b[0;36m<module>\u001b[1;34m()\u001b[0m\n\u001b[0;32m      5\u001b[0m \u001b[1;32mfrom\u001b[0m \u001b[0mgraphviz\u001b[0m \u001b[1;32mimport\u001b[0m \u001b[0mSource\u001b[0m\u001b[1;33m\u001b[0m\u001b[0m\n\u001b[0;32m      6\u001b[0m \u001b[1;33m\u001b[0m\u001b[0m\n\u001b[1;32m----> 7\u001b[1;33m graph = Source( tree.export_graphviz(tree_clf, out_file = None,\n\u001b[0m\u001b[0;32m      8\u001b[0m                                      \u001b[0mfeature_names\u001b[0m \u001b[1;33m=\u001b[0m \u001b[0madult_data\u001b[0m\u001b[1;33m.\u001b[0m\u001b[0mcolumns\u001b[0m\u001b[1;33m,\u001b[0m\u001b[1;33m\u001b[0m\u001b[0m\n\u001b[0;32m      9\u001b[0m                                      class_names = adult['class'].unique()))\n",
      "\u001b[1;31mNameError\u001b[0m: name 'tree_clf' is not defined"
     ]
    }
   ],
   "source": [
    "from sklearn.tree import export_graphviz\n",
    "from IPython.display import SVG\n",
    "import graphviz\n",
    "from sklearn import tree\n",
    "from graphviz import Source\n",
    "\n",
    "graph = Source( tree.export_graphviz(tree_clf, out_file = None,\n",
    "                                     feature_names = adult_data.columns,\n",
    "                                     class_names = adult['class'].unique()))\n",
    "\n",
    "#Save Tree as PNG\n",
    "png_bytes = graph.pipe(format='png')\n",
    "with open('initial_tree.png','wb') as f:\n",
    "    f.write(png_bytes)"
   ]
  },
  {
   "cell_type": "markdown",
   "metadata": {},
   "source": [
    "### Hypterparameter tuning "
   ]
  },
  {
   "cell_type": "markdown",
   "metadata": {},
   "source": [
    "#### 1. Max depth - Graph ROC AUC results of 20 depths"
   ]
  },
  {
   "cell_type": "code",
   "execution_count": 12,
   "metadata": {},
   "outputs": [
    {
     "data": {
      "image/png": "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\n",
      "text/plain": [
       "<Figure size 1080x720 with 1 Axes>"
      ]
     },
     "metadata": {},
     "output_type": "display_data"
    }
   ],
   "source": [
=======
   "execution_count": 120,
   "metadata": {},
   "outputs": [],
   "source": [
    "from sklearn.tree import export_graphviz\n",
    "from IPython.display import SVG\n",
    "import graphviz\n",
    "from sklearn import tree\n",
    "from graphviz import Source\n",
    "\n",
    "graph = Source( tree.export_graphviz(tree_clf, out_file = None,\n",
    "                                     feature_names = adult_data.columns,\n",
    "                                     class_names = adult['class'].unique()))\n",
    "\n",
    "#Save Tree as PNG\n",
    "png_bytes = graph.pipe(format='png')\n",
    "with open('initial_tree.png','wb') as f:\n",
    "    f.write(png_bytes)"
   ]
  },
  {
   "cell_type": "markdown",
   "metadata": {},
   "source": [
    "### Hypterparameter tuning "
   ]
  },
  {
   "cell_type": "markdown",
   "metadata": {},
   "source": [
    "#### 1. Max depth - Graph ROC AUC results of 20 depths"
   ]
  },
  {
   "cell_type": "code",
   "execution_count": 121,
   "metadata": {},
   "outputs": [
    {
     "data": {
      "image/png": "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\n",
      "text/plain": [
       "<Figure size 1080x720 with 1 Axes>"
      ]
     },
     "metadata": {
      "needs_background": "light"
     },
     "output_type": "display_data"
    }
   ],
   "source": [
>>>>>>> dbdc02e1762b98da432f4942fdf287d0f861642b
    "from sklearn.metrics import roc_curve, auc\n",
    "from matplotlib.legend_handler import HandlerLine2D\n",
    "\n",
    "#Tree Depth vector\n",
    "max_depth = np.linspace(1,20,20)\n",
    "\n",
    "#initiate result list \n",
    "train_res = []\n",
    "test_res = []\n",
    "\n",
    "#Loop through max_depth and calculate AUC of ROC curve and then graph it \n",
    "for n in max_depth:\n",
    "    dt = DecisionTreeClassifier(max_depth = n)\n",
    "    dt.fit(X_train, y_train)\n",
    "    \n",
    "    train_pred = dt.predict(X_train)\n",
    "    \n",
    "    fpr, tpr, t = roc_curve(y_train, train_pred)\n",
    "    roc_auc = auc(fpr, tpr)\n",
    "    train_res.append(roc_auc)\n",
    "    \n",
    "    y_pred = dt.predict(X_test)\n",
    "    \n",
    "    fpr, tpr, t = roc_curve(y_test, y_pred)\n",
    "    roc_auc = auc(fpr, tpr)\n",
    "    test_res.append(roc_auc)\n",
    "    \n",
    "f, ax = plt.subplots(figsize=(15, 10))\n",
    "train_line, = plt.plot(max_depth, train_res, 'b', label = 'Train AUC')\n",
    "test_line, = plt.plot(max_depth, test_res, 'r', label = 'Test AUC')\n",
    "plt.legend(handler_map={train_line: HandlerLine2D(numpoints=2)})\n",
    "plt.ylabel('AUC Score')\n",
    "plt.xlabel('Tree Depth')\n",
    "plt.show()\n"
<<<<<<< HEAD
   ]
  },
  {
   "cell_type": "code",
   "execution_count": 13,
   "metadata": {},
   "outputs": [],
   "source": [
    "#Training Decision Tree Classifier\n",
    "tree_clf_2 = DecisionTreeClassifier(max_depth = 9)\n",
    "tree_clf_2.fit(X_train, y_train)\n",
    "tree_clf_2_pred = tree_clf_2.predict(X_test)"
   ]
  },
  {
   "cell_type": "code",
   "execution_count": 14,
   "metadata": {},
   "outputs": [
    {
     "data": {
      "text/plain": [
       "{'accuracy': 0.8435132737323415,\n",
       " 'precision': 0.6839131727624145,\n",
       " 'recall': 0.6515580736543909,\n",
       " 'f_measure': 0.6673436819962281,\n",
       " 'sensitivity': 0.6515580736543909,\n",
       " 'specificity': 0.9044322574844916,\n",
       " 'error_rate': 0.15648672626765847}"
      ]
     },
     "execution_count": 14,
     "metadata": {},
     "output_type": "execute_result"
    }
   ],
   "source": [
    "#Model Evaluation \n",
    "tree2_res = model_eval(y_test, tree_clf_2_pred)\n",
    "tree2_res"
   ]
  },
  {
   "cell_type": "markdown",
   "metadata": {},
   "source": [
    "#### 2. min_samples_split - Graph ROC AUC for 10 splits"
=======
>>>>>>> dbdc02e1762b98da432f4942fdf287d0f861642b
   ]
  },
  {
   "cell_type": "code",
<<<<<<< HEAD
   "execution_count": 15,
   "metadata": {},
   "outputs": [
    {
     "data": {
      "image/png": "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\n",
      "text/plain": [
       "<Figure size 1080x720 with 1 Axes>"
      ]
     },
     "metadata": {},
     "output_type": "display_data"
    }
   ],
   "source": [
    "min_samples_splits = np.linspace(.005,0.15, 30, endpoint=True)\n",
    "train_res = []\n",
    "test_res = []\n",
    "for n in min_samples_splits:\n",
    "    dt = DecisionTreeClassifier(max_depth = 9, min_samples_split=n)\n",
    "    dt.fit(X_train, y_train)\n",
    "    \n",
    "    train_pred = dt.predict(X_train)\n",
    "    \n",
    "    fpr, tpr, t = roc_curve(y_train, train_pred)\n",
    "    roc_auc = auc(fpr, tpr)\n",
    "    train_res.append(roc_auc)\n",
    "    \n",
    "    y_pred = dt.predict(X_test)\n",
    "    fpr, tpr, t = roc_curve(y_test, y_pred)\n",
    "    roc_auc = auc(fpr, tpr)\n",
    "    test_res.append(roc_auc)\n",
    "\n",
    "f, ax = plt.subplots(figsize=(15, 10))\n",
    "train_line, = plt.plot(min_samples_splits, train_res, 'b', label='Train AUC')\n",
    "test_line, = plt.plot(min_samples_splits, test_res, 'r', label='Test AUC')\n",
    "plt.legend(handler_map={train_line: HandlerLine2D(numpoints=2)})\n",
    "plt.ylabel('AUC score')\n",
    "plt.xlabel('min samples split')\n",
    "plt.show()"
=======
   "execution_count": 122,
   "metadata": {},
   "outputs": [],
   "source": [
    "#Training Decision Tree Classifier\n",
    "tree_clf_2 = DecisionTreeClassifier(max_depth = 9)\n",
    "tree_clf_2.fit(X_train, y_train)\n",
    "tree_clf_2_pred = tree_clf_2.predict(X_test)"
>>>>>>> dbdc02e1762b98da432f4942fdf287d0f861642b
   ]
  },
  {
   "cell_type": "code",
<<<<<<< HEAD
   "execution_count": 16,
   "metadata": {},
   "outputs": [
    {
     "data": {
      "text/plain": [
       "{'accuracy': 0.8451511635842489,\n",
       " 'precision': 0.6983328090594526,\n",
       " 'recall': 0.6288951841359773,\n",
       " 'f_measure': 0.6617975853331345,\n",
       " 'sensitivity': 0.6288951841359773,\n",
       " 'specificity': 0.9137822529893015,\n",
       " 'error_rate': 0.1548488364157511}"
      ]
     },
     "execution_count": 16,
     "metadata": {},
     "output_type": "execute_result"
    }
   ],
   "source": [
    "tree_clf_3 = DecisionTreeClassifier(max_depth = 9, min_samples_split = 0.05)\n",
    "tree_clf_3.fit(X_train, y_train)\n",
    "tree_clf_3_pred = tree_clf_3.predict(X_test)\n",
    "tree3_res = model_eval(y_test, tree_clf_3_pred)\n",
    "tree3_res"
   ]
  },
  {
   "cell_type": "markdown",
   "metadata": {},
   "source": [
    "#### 3. Min_samples_leaf - Graph ROC AUC for 10 splits\n"
   ]
  },
  {
   "cell_type": "code",
   "execution_count": 17,
   "metadata": {},
   "outputs": [
    {
     "data": {
      "image/png": "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\n",
      "text/plain": [
       "<Figure size 1080x720 with 1 Axes>"
      ]
     },
     "metadata": {},
     "output_type": "display_data"
    }
   ],
   "source": [
    "min_samples_leaf = np.linspace(0.001, 0.2, 40)\n",
    "train_res = []\n",
    "test_res = []\n",
    "for n in min_samples_leaf:\n",
    "    dt = DecisionTreeClassifier(max_depth = 9, min_samples_split = 0.05, min_samples_leaf = n)\n",
    "    dt.fit(X_train, y_train)\n",
    "    \n",
    "    train_pred = dt.predict(X_train)\n",
    "    \n",
    "    fpr, tpr, t = roc_curve(y_train, train_pred)\n",
    "    roc_auc = auc(fpr, tpr)\n",
    "    train_res.append(roc_auc)\n",
    "    \n",
    "    y_pred = dt.predict(X_test)\n",
    "    fpr, tpr, t = roc_curve(y_test, y_pred)\n",
    "    roc_auc = auc(fpr, tpr)\n",
    "    test_res.append(roc_auc)\n",
    "\n",
    "f, ax = plt.subplots(figsize=(15, 10))\n",
    "train_line, = plt.plot(min_samples_leaf, train_res, 'b', label='Train AUC')\n",
    "test_line, = plt.plot(min_samples_leaf, test_res, 'r', label='Test AUC')\n",
    "plt.legend(handler_map={train_line: HandlerLine2D(numpoints=2)})\n",
    "plt.ylabel('AUC score')\n",
    "plt.xlabel('min samples split')\n",
    "plt.show()"
   ]
  },
  {
   "cell_type": "code",
   "execution_count": 18,
   "metadata": {},
   "outputs": [
    {
     "data": {
      "text/plain": [
       "{'accuracy': 0.8451511635842489,\n",
       " 'precision': 0.6983328090594526,\n",
       " 'recall': 0.6288951841359773,\n",
       " 'f_measure': 0.6617975853331345,\n",
       " 'sensitivity': 0.6288951841359773,\n",
       " 'specificity': 0.9137822529893015,\n",
       " 'error_rate': 0.1548488364157511}"
      ]
     },
     "execution_count": 18,
     "metadata": {},
     "output_type": "execute_result"
    }
   ],
   "source": [
    "tree_clf_4 = DecisionTreeClassifier(max_depth = 9, min_samples_split = 0.05, min_samples_leaf = 0.001)\n",
    "tree_clf_4.fit(X_train, y_train)\n",
    "tree_clf_4_pred = tree_clf_4.predict(X_test)\n",
    "tree4_res = model_eval(y_test, tree_clf_4_pred)\n",
    "tree4_res"
   ]
  },
  {
   "cell_type": "markdown",
   "metadata": {},
   "source": [
    "#### 4. Max_features- Comparing auto, sqrt, log2, and None"
   ]
  },
  {
   "cell_type": "code",
   "execution_count": 19,
   "metadata": {},
   "outputs": [
    {
     "data": {
      "image/png": "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\n",
      "text/plain": [
       "<Figure size 1080x720 with 1 Axes>"
      ]
     },
     "metadata": {},
     "output_type": "display_data"
    }
   ],
   "source": [
    "features = ['auto','sqrt','log2',None]\n",
    "train_res = []\n",
    "test_res = []\n",
    "for n in features:\n",
    "    dt = DecisionTreeClassifier(max_depth = 9, min_samples_split = 0.05, min_samples_leaf = .001, max_features = n)\n",
    "    dt.fit(X_train, y_train)\n",
    "    \n",
    "    train_pred = dt.predict(X_train)\n",
    "    \n",
    "    fpr, tpr, t = roc_curve(y_train, train_pred)\n",
    "    roc_auc = auc(fpr, tpr)\n",
    "    train_res.append(roc_auc)\n",
    "    \n",
    "    y_pred = dt.predict(X_test)\n",
    "    fpr, tpr, t = roc_curve(y_test, y_pred)\n",
    "    roc_auc = auc(fpr, tpr)\n",
    "    test_res.append(roc_auc)\n",
    "\n",
    "f, ax = plt.subplots(figsize=(15, 10))\n",
    "train_line, = plt.plot(np.linspace(1, 4, 4), train_res, 'b', label='Train AUC')\n",
    "test_line, = plt.plot(np.linspace(1, 4, 4), test_res, 'r', label='Test AUC')\n",
    "plt.legend(handler_map={train_line: HandlerLine2D(numpoints=2)})\n",
    "plt.ylabel('AUC score')\n",
    "plt.xlabel('min samples split')\n",
    "plt.show()"
   ]
  },
  {
   "cell_type": "code",
   "execution_count": 20,
   "metadata": {},
   "outputs": [
    {
     "data": {
      "text/html": [
       "<div>\n",
       "<style scoped>\n",
       "    .dataframe tbody tr th:only-of-type {\n",
       "        vertical-align: middle;\n",
       "    }\n",
       "\n",
       "    .dataframe tbody tr th {\n",
       "        vertical-align: top;\n",
       "    }\n",
       "\n",
       "    .dataframe thead th {\n",
       "        text-align: right;\n",
       "    }\n",
       "</style>\n",
       "<table border=\"1\" class=\"dataframe\">\n",
       "  <thead>\n",
       "    <tr style=\"text-align: right;\">\n",
       "      <th></th>\n",
       "      <th>accuracy</th>\n",
       "      <th>error_rate</th>\n",
       "      <th>f_measure</th>\n",
       "      <th>precision</th>\n",
       "      <th>recall</th>\n",
       "      <th>sensitivity</th>\n",
       "      <th>specificity</th>\n",
       "    </tr>\n",
       "  </thead>\n",
       "  <tbody>\n",
       "    <tr>\n",
       "      <th>Tree 1</th>\n",
       "      <td>0.8262</td>\n",
       "      <td>0.1738</td>\n",
       "      <td>0.5485</td>\n",
       "      <td>0.7328</td>\n",
       "      <td>0.4382</td>\n",
       "      <td>0.4382</td>\n",
       "      <td>0.9493</td>\n",
       "    </tr>\n",
       "    <tr>\n",
       "      <th>Tree 2</th>\n",
       "      <td>0.8435</td>\n",
       "      <td>0.1565</td>\n",
       "      <td>0.6673</td>\n",
       "      <td>0.6839</td>\n",
       "      <td>0.6516</td>\n",
       "      <td>0.6516</td>\n",
       "      <td>0.9044</td>\n",
       "    </tr>\n",
       "    <tr>\n",
       "      <th>Tree 3</th>\n",
       "      <td>0.8452</td>\n",
       "      <td>0.1548</td>\n",
       "      <td>0.6618</td>\n",
       "      <td>0.6983</td>\n",
       "      <td>0.6289</td>\n",
       "      <td>0.6289</td>\n",
       "      <td>0.9138</td>\n",
       "    </tr>\n",
       "    <tr>\n",
       "      <th>Tree 4</th>\n",
       "      <td>0.8452</td>\n",
       "      <td>0.1548</td>\n",
       "      <td>0.6618</td>\n",
       "      <td>0.6983</td>\n",
       "      <td>0.6289</td>\n",
       "      <td>0.6289</td>\n",
       "      <td>0.9138</td>\n",
       "    </tr>\n",
       "  </tbody>\n",
       "</table>\n",
       "</div>"
      ],
      "text/plain": [
       "        accuracy  error_rate  f_measure  precision  recall  sensitivity  \\\n",
       "Tree 1    0.8262      0.1738     0.5485     0.7328  0.4382       0.4382   \n",
       "Tree 2    0.8435      0.1565     0.6673     0.6839  0.6516       0.6516   \n",
       "Tree 3    0.8452      0.1548     0.6618     0.6983  0.6289       0.6289   \n",
       "Tree 4    0.8452      0.1548     0.6618     0.6983  0.6289       0.6289   \n",
       "\n",
       "        specificity  \n",
       "Tree 1       0.9493  \n",
       "Tree 2       0.9044  \n",
       "Tree 3       0.9138  \n",
       "Tree 4       0.9138  "
      ]
     },
     "execution_count": 20,
     "metadata": {},
     "output_type": "execute_result"
    }
   ],
   "source": [
    "overall_model = round(pd.DataFrame([tree1_res, tree2_res,tree3_res, tree4_res], index = ['Tree 1','Tree 2', 'Tree 3', 'Tree 4']),4)\n",
    "overall_model"
   ]
  },
  {
   "cell_type": "code",
   "execution_count": 21,
   "metadata": {},
   "outputs": [
    {
     "ename": "ExecutableNotFound",
     "evalue": "failed to execute ['dot', '-Tpng'], make sure the Graphviz executables are on your systems' PATH",
     "output_type": "error",
     "traceback": [
      "\u001b[1;31m---------------------------------------------------------------------------\u001b[0m",
      "\u001b[1;31mFileNotFoundError\u001b[0m                         Traceback (most recent call last)",
      "\u001b[1;32m~\\Anaconda3\\lib\\site-packages\\graphviz\\backend.py\u001b[0m in \u001b[0;36mrun\u001b[1;34m(cmd, input, capture_output, check, quiet, **kwargs)\u001b[0m\n\u001b[0;32m    146\u001b[0m     \u001b[1;32mtry\u001b[0m\u001b[1;33m:\u001b[0m\u001b[1;33m\u001b[0m\u001b[0m\n\u001b[1;32m--> 147\u001b[1;33m         \u001b[0mproc\u001b[0m \u001b[1;33m=\u001b[0m \u001b[0msubprocess\u001b[0m\u001b[1;33m.\u001b[0m\u001b[0mPopen\u001b[0m\u001b[1;33m(\u001b[0m\u001b[0mcmd\u001b[0m\u001b[1;33m,\u001b[0m \u001b[0mstartupinfo\u001b[0m\u001b[1;33m=\u001b[0m\u001b[0mget_startupinfo\u001b[0m\u001b[1;33m(\u001b[0m\u001b[1;33m)\u001b[0m\u001b[1;33m,\u001b[0m \u001b[1;33m**\u001b[0m\u001b[0mkwargs\u001b[0m\u001b[1;33m)\u001b[0m\u001b[1;33m\u001b[0m\u001b[0m\n\u001b[0m\u001b[0;32m    148\u001b[0m     \u001b[1;32mexcept\u001b[0m \u001b[0mOSError\u001b[0m \u001b[1;32mas\u001b[0m \u001b[0me\u001b[0m\u001b[1;33m:\u001b[0m\u001b[1;33m\u001b[0m\u001b[0m\n",
      "\u001b[1;32m~\\Anaconda3\\lib\\subprocess.py\u001b[0m in \u001b[0;36m__init__\u001b[1;34m(self, args, bufsize, executable, stdin, stdout, stderr, preexec_fn, close_fds, shell, cwd, env, universal_newlines, startupinfo, creationflags, restore_signals, start_new_session, pass_fds, encoding, errors)\u001b[0m\n\u001b[0;32m    708\u001b[0m                                 \u001b[0merrread\u001b[0m\u001b[1;33m,\u001b[0m \u001b[0merrwrite\u001b[0m\u001b[1;33m,\u001b[0m\u001b[1;33m\u001b[0m\u001b[0m\n\u001b[1;32m--> 709\u001b[1;33m                                 restore_signals, start_new_session)\n\u001b[0m\u001b[0;32m    710\u001b[0m         \u001b[1;32mexcept\u001b[0m\u001b[1;33m:\u001b[0m\u001b[1;33m\u001b[0m\u001b[0m\n",
      "\u001b[1;32m~\\Anaconda3\\lib\\subprocess.py\u001b[0m in \u001b[0;36m_execute_child\u001b[1;34m(self, args, executable, preexec_fn, close_fds, pass_fds, cwd, env, startupinfo, creationflags, shell, p2cread, p2cwrite, c2pread, c2pwrite, errread, errwrite, unused_restore_signals, unused_start_new_session)\u001b[0m\n\u001b[0;32m    996\u001b[0m                                          \u001b[0mos\u001b[0m\u001b[1;33m.\u001b[0m\u001b[0mfspath\u001b[0m\u001b[1;33m(\u001b[0m\u001b[0mcwd\u001b[0m\u001b[1;33m)\u001b[0m \u001b[1;32mif\u001b[0m \u001b[0mcwd\u001b[0m \u001b[1;32mis\u001b[0m \u001b[1;32mnot\u001b[0m \u001b[1;32mNone\u001b[0m \u001b[1;32melse\u001b[0m \u001b[1;32mNone\u001b[0m\u001b[1;33m,\u001b[0m\u001b[1;33m\u001b[0m\u001b[0m\n\u001b[1;32m--> 997\u001b[1;33m                                          startupinfo)\n\u001b[0m\u001b[0;32m    998\u001b[0m             \u001b[1;32mfinally\u001b[0m\u001b[1;33m:\u001b[0m\u001b[1;33m\u001b[0m\u001b[0m\n",
      "\u001b[1;31mFileNotFoundError\u001b[0m: [WinError 2] The system cannot find the file specified",
      "\nDuring handling of the above exception, another exception occurred:\n",
      "\u001b[1;31mExecutableNotFound\u001b[0m                        Traceback (most recent call last)",
      "\u001b[1;32m<ipython-input-21-d5dfac7c0b4e>\u001b[0m in \u001b[0;36m<module>\u001b[1;34m()\u001b[0m\n\u001b[0;32m      4\u001b[0m \u001b[1;33m\u001b[0m\u001b[0m\n\u001b[0;32m      5\u001b[0m \u001b[1;31m#Save Tree as PNG\u001b[0m\u001b[1;33m\u001b[0m\u001b[1;33m\u001b[0m\u001b[0m\n\u001b[1;32m----> 6\u001b[1;33m \u001b[0mpng_bytes\u001b[0m \u001b[1;33m=\u001b[0m \u001b[0mgraph\u001b[0m\u001b[1;33m.\u001b[0m\u001b[0mpipe\u001b[0m\u001b[1;33m(\u001b[0m\u001b[0mformat\u001b[0m\u001b[1;33m=\u001b[0m\u001b[1;34m'png'\u001b[0m\u001b[1;33m)\u001b[0m\u001b[1;33m\u001b[0m\u001b[0m\n\u001b[0m\u001b[0;32m      7\u001b[0m \u001b[1;32mwith\u001b[0m \u001b[0mopen\u001b[0m\u001b[1;33m(\u001b[0m\u001b[1;34m'Tuned_tree.png'\u001b[0m\u001b[1;33m,\u001b[0m\u001b[1;34m'wb'\u001b[0m\u001b[1;33m)\u001b[0m \u001b[1;32mas\u001b[0m \u001b[0mf\u001b[0m\u001b[1;33m:\u001b[0m\u001b[1;33m\u001b[0m\u001b[0m\n\u001b[0;32m      8\u001b[0m     \u001b[0mf\u001b[0m\u001b[1;33m.\u001b[0m\u001b[0mwrite\u001b[0m\u001b[1;33m(\u001b[0m\u001b[0mpng_bytes\u001b[0m\u001b[1;33m)\u001b[0m\u001b[1;33m\u001b[0m\u001b[0m\n",
      "\u001b[1;32m~\\Anaconda3\\lib\\site-packages\\graphviz\\files.py\u001b[0m in \u001b[0;36mpipe\u001b[1;34m(self, format, renderer, formatter)\u001b[0m\n\u001b[0;32m    126\u001b[0m         \u001b[0mdata\u001b[0m \u001b[1;33m=\u001b[0m \u001b[0mtext_type\u001b[0m\u001b[1;33m(\u001b[0m\u001b[0mself\u001b[0m\u001b[1;33m.\u001b[0m\u001b[0msource\u001b[0m\u001b[1;33m)\u001b[0m\u001b[1;33m.\u001b[0m\u001b[0mencode\u001b[0m\u001b[1;33m(\u001b[0m\u001b[0mself\u001b[0m\u001b[1;33m.\u001b[0m\u001b[0m_encoding\u001b[0m\u001b[1;33m)\u001b[0m\u001b[1;33m\u001b[0m\u001b[0m\n\u001b[0;32m    127\u001b[0m \u001b[1;33m\u001b[0m\u001b[0m\n\u001b[1;32m--> 128\u001b[1;33m         \u001b[0mout\u001b[0m \u001b[1;33m=\u001b[0m \u001b[0mbackend\u001b[0m\u001b[1;33m.\u001b[0m\u001b[0mpipe\u001b[0m\u001b[1;33m(\u001b[0m\u001b[0mself\u001b[0m\u001b[1;33m.\u001b[0m\u001b[0m_engine\u001b[0m\u001b[1;33m,\u001b[0m \u001b[0mformat\u001b[0m\u001b[1;33m,\u001b[0m \u001b[0mdata\u001b[0m\u001b[1;33m,\u001b[0m \u001b[0mrenderer\u001b[0m\u001b[1;33m,\u001b[0m \u001b[0mformatter\u001b[0m\u001b[1;33m)\u001b[0m\u001b[1;33m\u001b[0m\u001b[0m\n\u001b[0m\u001b[0;32m    129\u001b[0m \u001b[1;33m\u001b[0m\u001b[0m\n\u001b[0;32m    130\u001b[0m         \u001b[1;32mreturn\u001b[0m \u001b[0mout\u001b[0m\u001b[1;33m\u001b[0m\u001b[0m\n",
      "\u001b[1;32m~\\Anaconda3\\lib\\site-packages\\graphviz\\backend.py\u001b[0m in \u001b[0;36mpipe\u001b[1;34m(engine, format, data, renderer, formatter, quiet)\u001b[0m\n\u001b[0;32m    204\u001b[0m     \"\"\"\n\u001b[0;32m    205\u001b[0m     \u001b[0mcmd\u001b[0m\u001b[1;33m,\u001b[0m \u001b[0m_\u001b[0m \u001b[1;33m=\u001b[0m \u001b[0mcommand\u001b[0m\u001b[1;33m(\u001b[0m\u001b[0mengine\u001b[0m\u001b[1;33m,\u001b[0m \u001b[0mformat\u001b[0m\u001b[1;33m,\u001b[0m \u001b[1;32mNone\u001b[0m\u001b[1;33m,\u001b[0m \u001b[0mrenderer\u001b[0m\u001b[1;33m,\u001b[0m \u001b[0mformatter\u001b[0m\u001b[1;33m)\u001b[0m\u001b[1;33m\u001b[0m\u001b[0m\n\u001b[1;32m--> 206\u001b[1;33m     \u001b[0mout\u001b[0m\u001b[1;33m,\u001b[0m \u001b[0m_\u001b[0m \u001b[1;33m=\u001b[0m \u001b[0mrun\u001b[0m\u001b[1;33m(\u001b[0m\u001b[0mcmd\u001b[0m\u001b[1;33m,\u001b[0m \u001b[0minput\u001b[0m\u001b[1;33m=\u001b[0m\u001b[0mdata\u001b[0m\u001b[1;33m,\u001b[0m \u001b[0mcapture_output\u001b[0m\u001b[1;33m=\u001b[0m\u001b[1;32mTrue\u001b[0m\u001b[1;33m,\u001b[0m \u001b[0mcheck\u001b[0m\u001b[1;33m=\u001b[0m\u001b[1;32mTrue\u001b[0m\u001b[1;33m,\u001b[0m \u001b[0mquiet\u001b[0m\u001b[1;33m=\u001b[0m\u001b[0mquiet\u001b[0m\u001b[1;33m)\u001b[0m\u001b[1;33m\u001b[0m\u001b[0m\n\u001b[0m\u001b[0;32m    207\u001b[0m     \u001b[1;32mreturn\u001b[0m \u001b[0mout\u001b[0m\u001b[1;33m\u001b[0m\u001b[0m\n\u001b[0;32m    208\u001b[0m \u001b[1;33m\u001b[0m\u001b[0m\n",
      "\u001b[1;32m~\\Anaconda3\\lib\\site-packages\\graphviz\\backend.py\u001b[0m in \u001b[0;36mrun\u001b[1;34m(cmd, input, capture_output, check, quiet, **kwargs)\u001b[0m\n\u001b[0;32m    148\u001b[0m     \u001b[1;32mexcept\u001b[0m \u001b[0mOSError\u001b[0m \u001b[1;32mas\u001b[0m \u001b[0me\u001b[0m\u001b[1;33m:\u001b[0m\u001b[1;33m\u001b[0m\u001b[0m\n\u001b[0;32m    149\u001b[0m         \u001b[1;32mif\u001b[0m \u001b[0me\u001b[0m\u001b[1;33m.\u001b[0m\u001b[0merrno\u001b[0m \u001b[1;33m==\u001b[0m \u001b[0merrno\u001b[0m\u001b[1;33m.\u001b[0m\u001b[0mENOENT\u001b[0m\u001b[1;33m:\u001b[0m\u001b[1;33m\u001b[0m\u001b[0m\n\u001b[1;32m--> 150\u001b[1;33m             \u001b[1;32mraise\u001b[0m \u001b[0mExecutableNotFound\u001b[0m\u001b[1;33m(\u001b[0m\u001b[0mcmd\u001b[0m\u001b[1;33m)\u001b[0m\u001b[1;33m\u001b[0m\u001b[0m\n\u001b[0m\u001b[0;32m    151\u001b[0m         \u001b[1;32melse\u001b[0m\u001b[1;33m:\u001b[0m  \u001b[1;31m# pragma: no cover\u001b[0m\u001b[1;33m\u001b[0m\u001b[0m\n\u001b[0;32m    152\u001b[0m             \u001b[1;32mraise\u001b[0m\u001b[1;33m\u001b[0m\u001b[0m\n",
      "\u001b[1;31mExecutableNotFound\u001b[0m: failed to execute ['dot', '-Tpng'], make sure the Graphviz executables are on your systems' PATH"
     ]
    }
   ],
   "source": [
=======
   "execution_count": 123,
   "metadata": {},
   "outputs": [
    {
     "data": {
      "text/plain": [
       "{'accuracy': 0.8435132737323415,\n",
       " 'precision': 0.6841321821970825,\n",
       " 'recall': 0.6509915014164306,\n",
       " 'f_measure': 0.667150529830164,\n",
       " 'sensitivity': 0.6509915014164306,\n",
       " 'specificity': 0.9046120650903533,\n",
       " 'error_rate': 0.15648672626765847}"
      ]
     },
     "execution_count": 123,
     "metadata": {},
     "output_type": "execute_result"
    }
   ],
   "source": [
    "#Model Evaluation \n",
    "tree2_res = model_eval(y_test, tree_clf_2_pred)\n",
    "tree2_res"
   ]
  },
  {
   "cell_type": "markdown",
   "metadata": {},
   "source": [
    "#### 2. min_samples_split - Graph ROC AUC for 10 splits"
   ]
  },
  {
   "cell_type": "code",
   "execution_count": 144,
   "metadata": {},
   "outputs": [
    {
     "data": {
      "image/png": "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\n",
      "text/plain": [
       "<Figure size 1080x720 with 1 Axes>"
      ]
     },
     "metadata": {
      "needs_background": "light"
     },
     "output_type": "display_data"
    }
   ],
   "source": [
    "min_samples_splits = np.linspace(.005,0.15, 30, endpoint=True)\n",
    "train_res = []\n",
    "test_res = []\n",
    "for n in min_samples_splits:\n",
    "    dt = DecisionTreeClassifier(max_depth = 9, min_samples_split=n)\n",
    "    dt.fit(X_train, y_train)\n",
    "    \n",
    "    train_pred = dt.predict(X_train)\n",
    "    \n",
    "    fpr, tpr, t = roc_curve(y_train, train_pred)\n",
    "    roc_auc = auc(fpr, tpr)\n",
    "    train_res.append(roc_auc)\n",
    "    \n",
    "    y_pred = dt.predict(X_test)\n",
    "    fpr, tpr, t = roc_curve(y_test, y_pred)\n",
    "    roc_auc = auc(fpr, tpr)\n",
    "    test_res.append(roc_auc)\n",
    "\n",
    "f, ax = plt.subplots(figsize=(15, 10))\n",
    "train_line, = plt.plot(min_samples_splits, train_res, 'b', label='Train AUC')\n",
    "test_line, = plt.plot(min_samples_splits, test_res, 'r', label='Test AUC')\n",
    "plt.legend(handler_map={train_line: HandlerLine2D(numpoints=2)})\n",
    "plt.ylabel('AUC score')\n",
    "plt.xlabel('min samples split')\n",
    "plt.show()"
   ]
  },
  {
   "cell_type": "code",
   "execution_count": 148,
   "metadata": {},
   "outputs": [
    {
     "data": {
      "text/plain": [
       "{'accuracy': 0.8451511635842489,\n",
       " 'precision': 0.6983328090594526,\n",
       " 'recall': 0.6288951841359773,\n",
       " 'f_measure': 0.6617975853331345,\n",
       " 'sensitivity': 0.6288951841359773,\n",
       " 'specificity': 0.9137822529893015,\n",
       " 'error_rate': 0.1548488364157511}"
      ]
     },
     "execution_count": 148,
     "metadata": {},
     "output_type": "execute_result"
    }
   ],
   "source": [
    "tree_clf_3 = DecisionTreeClassifier(max_depth = 9, min_samples_split = 0.05)\n",
    "tree_clf_3.fit(X_train, y_train)\n",
    "tree_clf_3_pred = tree_clf_3.predict(X_test)\n",
    "tree3_res = model_eval(y_test, tree_clf_3_pred)\n",
    "tree3_res"
   ]
  },
  {
   "cell_type": "markdown",
   "metadata": {},
   "source": [
    "#### 3. Min_samples_leaf - Graph ROC AUC for 10 splits\n"
   ]
  },
  {
   "cell_type": "code",
   "execution_count": 150,
   "metadata": {},
   "outputs": [
    {
     "data": {
      "image/png": "iVBORw0KGgoAAAANSUhEUgAAA34AAAJNCAYAAABusKejAAAABHNCSVQICAgIfAhkiAAAAAlwSFlzAAALEgAACxIB0t1+/AAAADh0RVh0U29mdHdhcmUAbWF0cGxvdGxpYiB2ZXJzaW9uMy4xLjAsIGh0dHA6Ly9tYXRwbG90bGliLm9yZy+17YcXAAAgAElEQVR4nOzdeXidZZ3/8c+dpVmaNCdN2qYbTUKhSxKobQq4MWVfWpXLUaGuIAODCAqoiD9HZWTGcRSVZRxQBB0FC4rLOFot2wiOCiaFAm3aktI1tDRp2qRt2ma9f3/c50nT5CQ9ac7znO39uq5eJ2d97oDSfPK97+/XWGsFAAAAAEhdGfFeAAAAAADAXwQ/AAAAAEhxBD8AAAAASHEEPwAAAABIcQQ/AAAAAEhxBD8AAAAASHFZ8V5ArJSWltry8vJ4LwMAAAAA4mL16tV7rLWTIj2XMsGvvLxc9fX18V4GAAAAAMSFMWbbcM+x1RMAAAAAUhzBDwAAAABSHMEPAAAAAFJcypzxAwAAAJCYuru71dTUpCNHjsR7KSkhNzdXM2bMUHZ2dtTvIfgBAAAA8FVTU5MKCwtVXl4uY0y8l5PUrLVqbW1VU1OTKioqon4fWz0BAAAA+OrIkSMqKSkh9MWAMUYlJSWjrp4S/AAAAAD4jtAXOyfyz5LgBwAAACCltba2asGCBVqwYIHKyso0ffr0/vtdXV1RfcZVV12ljRs3jvraS5cu1Tvf+c5jHvvwhz+sX//61/33e3p6FAqF+u9v2LBBl1xyiU455RTNmzdPV1xxhZqbm0d97YE44wcAAAAgpZWUlGjNmjWSpNtvv10FBQX67Gc/e8xrrLWy1iojI3Jt7Ic//OGor9va2qpXX31Vubm52r59u0466aTjvufw4cNatmyZ7rnnHl166aWSpKefflqtra2aPHnyqNfgoeIHAAAAIC1t2rRJ1dXVuu6667Rw4ULt2rVL1157rWpra1VVVaWvfvWr/a99xzveoTVr1vRX52677Tadfvrpeutb3zpsNe7xxx/XZZddpssvv1yPPfZYVGv6yU9+orPPPrs/9EnSeeedp3nz5o3peyX4AQAAAEhbDQ0Nuvrqq/XSSy9p+vTp+vrXv676+nq9/PLLevLJJ9XQ0DDkPe3t7fq7v/s7vfzyy3rrW9+qhx56KOJnr1ixQsuXL9fy5cu1YsWKqNazdu1aLVq0aEzfUyRs9QQAAAAQFzfdJIV3YI7aggXSXXeNfQ0nn3yyFi9e3H9/xYoVevDBB9XT06OdO3eqoaFB8+fPP+Y9eXl5uuSSSyRJixYt0p/+9Kchn/vGG29o+/btOuuss2SMUW9vrzZs2KC5c+dGbM7id/MbKn4AAAAA0tb48eP7v25sbNTdd9+tZ555Rq+88oouvvjiiGMTxo0b1/91Zmamenp6hrzmscceU2trqyoqKlReXq7t27fr0UcfleTOHO7bt6//tXv37lVpaakkqaqqSqtXr47Z9+eh4gcAAAAgLmJRsYul/fv3q7CwUBMmTNCuXbu0atUqXXzxxSf0WStWrNBTTz3VX01sbGzUsmXLdPvtt2vJkiW677779OEPf1jZ2dn60Y9+pHPOOUeS9JGPfETf+MY39Ic//KH/2itXrlR5efmQyuNoEPwAAAAAQNLChQs1f/58VVdXq7KyUm9/+9tP6HNef/11vfnmm6qtre1/7JRTTlFOTo5Wr16tyy67TC+++KIWLVqkjIwMnXLKKbr//vslSfn5+fqf//kf3XzzzbrxxhuVnZ2tBQsW6O677x7T92astWP6gERRW1tr6+vr470MAAAAAIOsX79+zF0pcaxI/0yNMauttbWRXs8ZPwAAAABIcQQ/AAAAAEhxBD8AAAAASHEEPwAAAABIcQQ/AAAAAEhxBD8AAAAASHEEPx/9+c/SqadKa9bEeyUAAABA+mptbdWCBQu0YMEClZWVafr06f33u7q6ov6chx56SG+++eawz3d1dWnixIn60pe+dMzjM2bMUFtbW//9p556Spdddln//d/97ndatGiR5s+fr7lz5+rzn//8KL676BD8fFS8p1FXNX5BO//WFO+lAAAAAGmrpKREa9as0Zo1a3Tdddfp5ptv7r8/bty4qD/neMHvD3/4g+bPn6/HHnss6s98+eWXddNNN2nFihVqaGjQ2rVrVV5eHvX7o0Xw89HMnGZ9QV/X4b+9Gu+lAAAAAIjgv/7rv3TGGWdowYIFuv7669XX16eenh595CMfUU1Njaqrq3XPPffoscce05o1a3T55ZcPWylcsWKFbrnlFk2ZMkV1dXVRXf/f//3f9aUvfUmnnnqqJCkrK0uf+MQnYvo9SgQ/XxWeXilJ6m3cHOeVAAAAABhs7dq1+tWvfqW//OUvWrNmjXp6evToo49q9erV2rNnj1599VWtXbtWH/3oR/sDnxcAB1cKOzo69Oyzz+rSSy/V8uXLtWLFiqjXsGjRIj++vWNk+X6FdFZWpiMmV9lNW+K9EgAAACAx3HRT7JtgLFgg3XXXqN/21FNPqa6uTrW1tZKkw4cPa+bMmbrooou0ceNGffrTn9all16qCy+88Lif9Zvf/EYXXHCBcnNz9f73v1+1tbW68847lZGRIWPMkNdHesxPBD8/GaOW8RUqbKHiBwAAACQaa60+/vGP64477hjy3CuvvKLf//73uueee/SLX/xC3//+90f8rBUrVuiFF17oP5/X3Nys5557TkuWLFFJSYn27dunUCgkSdq7d69KS0slSVVVVVq9erWqqqpi+80NQvDz2f5JlZq8bbOslQIO9QAAAEDiOYHKnF/OP/98ve9979OnP/1plZaWqrW1VR0dHcrLy+uv3FVUVOi6666TJBUWFurAgQNDPmffvn164YUX1NTUpOzsbEnSAw88oBUrVmjJkiVasmSJfvKTn+jLX/6yenp69Mgjj+jyyy+XJN166626/PLL9ba3vU2zZ89Wb2+v7r77bt1yyy0x/V454+ez7hmVKu/brNY9Nt5LAQAAADBATU2NvvKVr+j888/XaaedpgsvvFC7d+/Wjh07dPbZZ2vBggW65ppr9LWvfU2SdNVVV+kf/uEfhjR3+cUvfqELLrigP/RJ0mWXXaZf/epX6u7u1u23366GhgadfvrpWrhwoebNm6fly5dLkt7ylrfozjvv1Ac+8AHNmzdPNTU1amlpifn3aqxNjUBSW1tr6+vr472MIV69+juqeegWvfTkHr3l/JJ4LwcAAAAI3Pr16zVv3rx4LyOlRPpnaoxZba2tjfR6Kn4+K6hxnT1b6zjnBwAAACA+CH4+Kz3DBb9Dawl+AAAAAOKD4OezwtMqJEl9mxnpAAAAACA+CH5+KyjQ3qxJyn2Dih8AAADSV6r0FkkEJ/LPkuAXgD2FlSpqJfgBAAAgPeXm5qq1tZXwFwPWWrW2tio3N3dU72OOXwAOTq7UlNdeYJYfAAAA0tKMGTPU1NTky5iCdJSbm6sZM2aM6j0EvwD0zqrQSRt/ppZdPZo8jX/kAAAASC/Z2dmqqKiI9zLSGls9A5B9aqWy1Kudf9sR76UAAAAASEMEvwBMWOBGOrSt5pwfAAAAgOAR/AIw+UxX1j7cwEgHAAAAAMEj+AWgYO4MdStLZgsVPwAAAADBI/gFIStLb+bMUt4ugh8AAACA4BH8ArK3qFKhNrZ6AgAAAAgewS8gh8oqNO3IZjGzEgAAAEDQCH4BsRWVmqQ9at60P95LAQAAAJBmCH4ByZnnRjrsfp7tngAAAACCRfALSGiBG+nQvobgBwAAACBYBL+ATHmrq/h1bqCzJwAAAIBgEfwCUjCzWO2mSJlbCX4AAAAAgkXwC4ox2pVXqfxmtnoCAAAACBbBL0DtxRUq3U/FDwAAAECwCH4BOjKtUtO7tqivpy/eSwEAAACQRgh+ATInVypXnWp+5c14LwUAAABAGiH4BShvvhvp0PIC2z0BAAAABIfgF6CJtW6kw8FXCH4AAAAAgkPwC9DUs2apT0Y9rxH8AAAAAASH4Beg/OIc7cyYocwdjHQAAAAAEByCX8Cax1eosIWKHwAAAIDgEPwCtr+kUpMOEPwAAAAABIfgF7CuGZUq692pvkNH4r0UAAAAAGmC4BewzNlupEPz37bGdyEAAAAA0gbBL2AFp7mRDq11bPcEAAAAEAyCX8BKFrvg17GWzp4AAAAAgkHwC9j0hVN0SHnq20TFDwAAAEAwCH4By8s32pFVoXFNBD8AAAAAwSD4xUFLYaWK9hL8AAAAAASD4BcHBydVanLHFsnaeC8FAAAAQBog+MVBz8wKFdoD6m1ujfdSAAAAAKQBgl8cZM9xnT1bXmC7JwAAAAD/EfzioPB0F/z2vchIBwAAAAD+I/jFweQzyiVJh9dR8QMAAADgP4JfHMycV6DdmixtJvgBAAAA8B/BLw5ycqSm7Erl7iL4AQAAAPAfwS9OWosqFdrHGT8AAAAA/iP4xcmhKRWafGS71N0d76UAAAAASHEEvzjpK69UlnrVs2VHvJcCAAAAIMX5GvyMMRcbYzYaYzYZY26L8Px3jDFrwn9eM8a0DXjuJGPME8aY9caYBmNMuZ9rDVrOPDfSobWe7Z4AAAAA/OVb8DPGZEr6rqRLJM2XtNwYM3/ga6y1N1trF1hrF0i6V9IvBzz9Y0nftNbOk3SGpGa/1hoPRQsqJEltL9LgBQAAAIC//Kz4nSFpk7V2s7W2S9Kjkt4zwuuXS1ohSeGAmGWtfVKSrLUHrbWHfFxr4KYunqFuZalzPcEPAAAAgL/8DH7TJQ08wNYUfmwIY8wsSRWSngk/dKqkNmPML40xLxljvhmuIKaMmeWZ2qpyZWxjqycAAAAAf/kZ/EyEx+wwr71C0uPW2t7w/SxJ75T0WUmLJVVKunLIBYy51hhTb4ypb2lpGfuKAzRunLQrp0L5b1LxAwAAAOAvP4Nfk6SZA+7PkLRzmNdeofA2zwHvfSm8TbRH0q8lLRz8Jmvt9621tdba2kmTJsVo2cHZW1ypie3xCX6dndKdd0oHD8bl8gAAAAAC5Gfwq5N0ijGmwhgzTi7c/Wbwi4wxcyQVS/rroPcWG2O8NHeupAYf1xoXR6ZVKtTTKu3fH/i1V66UPvc56d57A780AAAAgID5FvzClbobJK2StF7Sz6y164wxXzXGvHvAS5dLetRaawe8t1dum+fTxphX5baNPuDXWuOmwo106H4t+HN+dXXu9t57pa6uwC8PAAAAIEBZfn64tXalpJWDHvvyoPu3D/PeJyWd5tviEkDe/ArpF9Le+s2aUnt6oNeuq5Py86Vdu6THHpM+8pFALw8AAAAgQL4OcMfIihe5it/+NcGe87NWqq+XPvhBaf586dvfdo8BAAAASE0EvziaeVqx9imk7sZgt3q+/rrU1iadcYZ0yy3SmjXSH/8Y6BIAAAAABIjgF0czZkhbVKGs7cFW/LzzfYsXSx/6kDRpkqv6AQAAAEhNBL84ys6W3syrVEFz8MEvN1eqqnK3n/yk9NvfShs3BroMAAAAAAEh+MVZe0mlSg5slfr6ArtmXZ20YIELnpL0iU9IOTnSXXcFtgQAAAAAASL4xVnXjErl2E7XXjMAvb3Siy+6bZ6eyZOlD39Y+q//kvbsCWQZAAAAAAJE8IuzjJMrJEndG4PZ7rl+vXTo0LHBT5Juvlk6fFj63vcCWQYAAACAABH84iy/2o102Lc6mODnNXaprT328aoq6aKLpP/4D6mzM5ClAAAAAAgIwS/OShfNUp+MDr4azEiHujqpsFCaM2foc7fcIr35pvToo4EsBQAAAEBACH5xVn7qODVphnobg6n41ddLixZJGRH+zV9wgav8MdAdAAAASC0EvzibPl3aokqNa/I/+HV1SS+/PPR8n8cYV/V75RXpmWd8Xw4AAACAgBD84iwrS9pdUKnCVv+3er7yigt/g8/3DfTBD7ounwx0BwAAAFIHwS8BHCyt0MTDO11bTR95jV2Gq/hJRwe6r1zpOoACAAAASH4EvwTQPdN19tTWrb5ep75eKimRystHfh0D3QEAAIDUQvBLANlzXPDze5ZfXZ2r9hkz8usmTZI++lHpxz+WWlp8XRIAAACAABD8EkDBaeFZfi/6d86vo0Nat27ANs+tW6XTT5caGyO+/qabpCNHpPvv921JAAAAAAJC8EsAZadNVofydXidfxW/l16S+voGNHZ5/HHX7WXFioivnz9fuuQSN9D9yBHflgUAAAAgAAS/BFBeYbRFFbKv+xf8hjR2eeIJd/vb3w77nltukZqbh82GAAAAAJIEwS8BTJ8ubTGVytnl31bP+np3nalTJR06JD33nFRY6BLh7t0R33PeeVJNDQPdAQAAgGRH8EsAmZlSa2GFQns3+5awvMYuklzo6+yUvvhFd3/lyojv8Qa6r10rPfWUL8sCAAAAEACCX4LomFKpvJ6D0p49Mf/stjbXw6X/fN+qVW5ew403ujLgCNs9ly+XpkxhoDsAAACQzAh+CaJ3VniW35bYb/esr3e3x5zvO/tsKT9fWrrU3e/qivjenBzphhukP/xBamiI+dIAAAAABIDglyDGzXXBr2tD7Bu8eMGvtlbSjh0uwV10kXtw2TLp4EG3/XMY110n5eYy0B0AAABIVgS/BFF0erkkqf2l2Ae/ujrp5JOliRN1tJunF/zOO8+lut/9btj3l5Yy0B0AAABIZgS/BDFz7ni9qSnqXO9P8DvmfN+0aVJVlbufny+dc86I5/wkN9C9s1O6776YLw8AAACAzwh+CaK8XNqsSpmtsT3jt3u32925eLGk3l7XnvPCC13LTs+yZdKmTdJrrw37OfPmSZdeKn33uwx0BwAAAJINwS9BTJsmbTMVynszthW/Yxq71NdL+/Yd3ebpWbrU3R6n6ucNdP/pT2O6RAAAAAA+I/gliIwMaW+oUqH926Xu7ph9bl2dK+4tXCi3zdMY6fzzj33RrFlSdfWI5/wk6dxzpdNOY6A7AAAAkGwIfgnk8NRKZdg+tzczRurq3DbNggK54LdokevWMtjSpa6zZ3v7sJ/lDXRft0568smYLREAAACAzwh+CcRWhGf5bY7Ndk9rXfBbvFhuivsLLwzd5ulZtkzq6TluorviCqmsjIHuAAAAQDIh+CWQvPkVkqTOGM3y27HDjV9YvFjSM8+45i7DBb+zzpKKi497zs8b6L5qlbR2bUyWCQAAAMBnBL8EUnLadHUpWwdejk1nz7o6d7t4sVxSKyx0AS+SrCzpkkuklSulvr4RP/cf/1HKy2OgOwAAAJAsCH4JZFZlpraqXN0bY1Pxq6uTsrOl00+zLvide657YDhLl7oSoZcYh1FaKn3sY9LDD7txEQAAAAASG8EvgZSXS1tUocxtsQt+NTVSzvZGadu24bd5ei6+2LUXPU53T4mB7gAAAEAyIfglkLIyaVtGpcY3jz349fW5sX392zyl4we/iROlt73tuOf8JGnOHNcP5j//Uzp8eMzLBQAAAOAjgl8CyciQ2iZWavyRvSOOVYjGpk3S/v0Dgt/s2VJl5fHfuGyZ9NJL0htvHPelt9zidoY+8siYlgoAAADAZwS/BNM5zXX21JaxNXjxjumdcXqn9L//K114YXRvXLbM3a5cedyXLlkiLVjAQHcAAAAg0RH8EoyZHZtZfnV1rvPm/H1/lg4dOv42T8/8+dKsWVFt9/QGuq9ff3Q3KQAAAIDEQ/BLMPlVLvh1bhh7xe8tb5Eyn37CjWo455zo3miMq/o99ZR05MhxX3755dLUqQx0BwAAABIZwS/BTJsf0l4Vq+PVE6/49fS4Y3r95/ve/nY3wy9aS5e6KuEf/3jcl44bJ914o/Tkk9Krr57wkgEAAAD4iOCXYLyRDj2NJx78Ghpcp813nrpbWrMm+vN9nnPOkfLzoxrrILmB7vn50h13cNYPAAAASEQEvwRTXi5tVqWyd5x48PMau7zt4BPui2jP93lyc6XzznPn/KJIchMnSrfeKv38526+H+EPAAAASCwEvwQzZYq0PbNSha1b3TC+E1BXJ02YIJW98oQ0aZI77Dday5ZJW7e6zi1R+PKXpZtvlu65h/AHAAAAJJqseC8AxzJGOlBaoazdXdLOndKMGaP+jPp6afGiPpknn5AuuMANCBytSy91t7/9rev0eRzGSN/6lgt8d93l7n/nO+4WAAAAQHxR8UtA3TNPfKRDZ6f0yivSu2e9LDU3j/58n2fGDDekL8pzfpILed/+tqv43X23qwBS+QMAAADij4pfAso8pVKqlxvifvbZo3rvyy9L3d3SOV3hwXonGvwk193z61+X9u2TioujeosX/qSjlb9vf5vKHwAAQCxcf7303HPxXgUk6Te/kSor472K6BH8ElBh1UnqVYZ61m9Wzijf6zV2OWXLE9Jpp7kheydq2TLpX//VjYS44oqo3+aFPW/bp0T4AwAAiIUf/1iaPl2qqYn3SpAz2h/U44zgl4BmnTJOTZqhCetGH/zq66Xy0oPKqf8/t+dyLBYvlkpL3Tm/UQQ/6egZP4nwBwAAEAuHDkkdHdKVV0pf+EK8V4NkQ/BLQN5Ih9Nf3zLq99bVSR+b9UeZ1d1j2+YpSZmZrsnLb38r9fa6+6MwOPx5DWAIfwAAAKPX0uJuJ0+O7zqQnGjukoC84DfujdE1dzl40E1fuCRjlZSXJ73jHWNfzLJl0t690vPPn9DbvfD3qU+52898hoYvAAAAJ8ILfpMmxXcdSE5U/BLQpElSU3aFCvbvcjX9/Pyo3vfii270X9XOJ6QlS9wg9rG68EIpK8tV/d7+9hP6CGOObvf0RjzceSeVPwAAgNFobna3VPxwIqj4JSBjpI7J4RZBW7dG/b66OmmWtqrgjdekiy6KzWKKiqR3vnNUYx0i8cLfpz7lzvp99rNU/gAAAEaDih/GguCXoHpOCge/LdGf86uvl5YXx2CMw2BLl0qvvipt3z6mj/HC3403uvD3uc8R/gAAAKJFxQ9jQfBLUOPmVLgvRjHEva5Oek/eKmnmTGnu3NgtZtkydzvGqp/kwt/dd7vw961vEf4AAACi1dLiRggUFMR7JUhGBL8EVTJvsjqUr8710QW/vXulra/3aEHr026bZywP0J16qnTyye6cXwx44e+GG1z4u/VWwh8AAMDxNDe7ah99EnAiaO6SoMorjDarUiet3xLVLL/6eulMvaDczv2xO9/nMcZV/b73vVE1mzneR95zj/v6zjvd7Te+wX/IAAAAhtPSwvk+nDgqfgmqosKNdNCW6Cp+9fXSRVolm5EhnXde7Be0dKl05Ij0zDMx+0gv/N1wgwt/n/88lT8AAIDheBU/4EQQ/BJUebm0RRXK27U5qjRUVye9J2eVzBlnSMXFsV/Q2We7DeUxOOc3kBf+PvlJ6ZvfJPwBAAAMh4ofxoLgl6BKSqQ3xlVqXFeHtGfPcV/f+HyrajrrYr/N05OTI11wgTvnF+NkZox0771Hw99ttxH+AAAABqPih7Eg+CUoY6RDZeGRDsfp7LlrlzT/zaeVIetf8JPcOb+mJjfaIca88Hf99e6sH+EPAADgqI4O6fBhgh9OHMEvkVVEN9LBO9/XU1AkLV7s33ouvdTdxqi752DGSP/xH0fD3wMP+HIZAACApOPN8GOrJ04UwS+B5cyNLvjV/c3qIq2SzjtfyvKxUWtZmVRbG/NzfgN54e/886XPfEbautW3SwEAACQNhrdjrAh+CWz6KfnapTJ1btwy4ut2/2+DZugNZS31cZunZ9ky6a9/jerc4YkyRvrBD9zt1VdLfX2+XQoAACAptLS4Wyp+OFEEvwRWXu5GOnRtGL7iZ6006aUn3J0LL/R/UUuXuov+/ve+XmbWLOnb33bTI+6/39dLAQAAJDwqfhgrgl8Cq6hwIx0ytg4f/LZtk95xaJX2TZnj0pLfFi50Wz593O7pufpq16vmc5877m5XAACAlEbFD2NF8EtgXsUvb88Oqbs74mtW//mw/k7PqmtJANs8JSkjwzV5+cMfhl1TrBjjGrxkZUlXXcWWTwAAkL6am6X8fGn8+HivBMmK4JfAioulnbmVyrB90vbtEV+z99d/Up6OaOLygIKf5M75tbdLf/mL75eaOVO66y7puedc0xcAAIB0xPB2jBXBL4EZI3VOHbmz54Tnn1CXGafs8/8uuIWdf76Une3bWIfBrrzSFRlvu01qbAzkkgAAAAmF4e0YK4JfgsuYPfwQ974+qXrnKm2e9o5g6/6FhdKSJYGc85NcAP7+96WcHLfls7c3kMsCAAAkDCp+GCuCX4IrnDNNnRonu3noSIfNf3pDVX1rdeBtAW7z9CxdKq1fH1jXlenTpXvukf78Z+nuuwO5JAAAQMKg4oexIvgluFmVmdqqcnVtHBqwmh92YxyKL49D8Fu2zN0GVPWTpA9/WHr3u6UvflHasCGwywIAAMSVtVT8MHZZ8V4ARlZe7kY6zHhts3IGPZfz7BParSkqf/dpwS/s5JOlOXPcOb8bbwzkksZI3/ueVFXlzv39+c9SZmYglwYAAIibAwekzs5wxe9Tn5L+9Kd4LwmS9MtfuvlrSYLgl+AqKqS/qFLn7Kg79oneXp285Uk9P+lSXZxt4rO4Zcuke++VDh6UCgoCuWRZmevu+cEPSt/6lnTrrYFcFgAAIG6OmeH3zz90PxDNnx/XNUGu2WESIfgluPJy6WFVKufgXqmtTQqFJEk9f3tRoZ5W7VkUh22enqVLXfp66inpsssCu+wVV0iPPy596Usue/LfPQAAkMqam91tWdFh9wv3j39c+sIX4rsoJB3O+CW4UEhqzg+XkLccbfDS8vAqSVL+ey6Ix7Kcd7xDmjAh0HN+ktvyed997tIf+5jU0xPo5QEAAALlBb+p2QNLf8DoEPySQOf08EiHAcFPTz6h1VqomvPi2N4pO1u6+GIX/KwN9NKTJ0v/+Z9Sfb30jW8EemkAAIBAeVs9J9twAqS9J04AwS8JZJ4yaJbf/v2avOmvei7nQs2eHb91SXLbPXftkl56KfBLv//90gc+IN1+u/Tqq4FfHgAAIBBexa+4h4ofThzBLwlMObVIe1Us+3o4+D3zjDJtj5qqLpKJU1+Xfpdc4vZe/va3cbn8d6Y7v6kAACAASURBVL8rFRe7LZ/d3XFZAgAAgK9aWlwfvZx2Kn44cQS/JFBeLm1WpbrDs/x6Vq7SARUo//y3xXdhkvuN05lnxi34lZa6834vvST927/FZQkAAAC+6h/e3kLFDyeO4JcEvODX9/oWyVr1/G6V/lfn6C1njov30pxly6S6Omn37rhc/r3vlZYvl+64Q1qzJi5LAAAA8E3/8PbmZiknRyosjPeSkIQIfknAC37ZO7dKr72m3J1b9IQu1OLF8V5Z2NKl7nblyrgt4d57pZISt+WzqytuywAAAIi5Yyp+kyYp/md9kIyY45cEysulLapQZk+X9KMfSZJWl1ykGTPiuqyjTj9dmj5d+uEPpcsvl/LzA19CSYn0ve+5cYL/8i/SV78a+BLirqvLDbTfty/eK4ksJ8f9eykri/dKAABILi0t0qJFkt5s5nwfThjBLwkUFUktBZXSQUkPPqgd2RUqPWt24vyyxxjpn/5Juv566ayz3HT1U08NfBnveY/0kY9IX/ua+3rRosCXEFd//at0993S1KkuZCWSnh6pqUl629ukK6+M92oAAEge1rrgN3mypFdbON+HE0bwSxI9J1VKDZJaWvQ7/b1qFydK6gu77jqpokL60Iek2lpX/fv7vw98GXffLT31lAsX9fWJF4D81NDgbv/2NyVONTisrc11X21ri/dKAABILu3trnN5/xm/uXPjvSQkKc74JYmcU05Sb/hf16pEOt830EUXufaa8+dL73ufdMstgc9YKC6WHnhAWrs2/bZ7NjS4s97Tp8d7JUNNmOAKw4m6DRUAgETVPHCCQwsVP5w4gl+SOOnkbDWZmerLyNQzOjcxg58kzZwpPfecdOON0ne+I51zjvTGG4EuYelS6aqrpK9/3TUbTRcNDS5zJ8wW4AEyMtyWZSp+AACMjjfBoaywQzp0iDN+OGEEvyRRXi6ttgtVX3S+imcVJfYve8aNk+65R1qxws1XeMtbpKefDnQJ3/62NG2a6/J55Eigl44bL/glqlCIih8AAKPlVfymZjHDD2ND8EsS5eXSB/VTndP2K9XWxns1UbriCldyKy2VLrxQ+td/lfr6Arl0KCT94AfS+vXSV74SyCXjau9e6c03Ezv4ccYPAIDR8yp+pX0D93wCo0fwSxLl5VKncnXI5iXuNs9I5s1z3UauuMJ1/nzXu1xKCcBFF0nXXCPdeafreJnK1q93t1VV8V3HSKj4AQAwel7Fb2IPwQ9jQ/BLEuXlR79OquAnSQUF0sMPS9/9rvTkk9LCha7lZgDuvNM1O7n11kAuFzfr1rlbKn4AAKSW5mZ3Tj67ja2eGBuCX5IoLHRDyqUknU9njJvz93//5wbSvP3t0v33u699NGGC9N73Si++GNgu07hoaJDGj3e9dRIVFT8AAEavv5FnMxU/jI2vwc8Yc7ExZqMxZpMx5rYIz3/HGLMm/Oc1Y0zboOcnGGPeMMb8h5/rTBbl5dKcOe63PknrjDNcCjv3XOkTn5A++lGpo8PXS9bUuCZYmzf7epm4amhwu2ozEvhXOVT8AAAYvebmAaMc8vLcb3qBE+Dbj4nGmExJ35V0iaT5kpYbY47ZiGatvdlau8Bau0DSvZJ+Oehj7pD0rF9rTDZf+5p0113xXkUMlJRIv/udG7T3yCPSmWdKGzf6drmaGnf76qu+XSLuEr2jp+Qqfh0dgY92BAAgqR1T8aPahzHwsz5whqRN1trN1touSY9Kes8Ir18uaYV3xxizSNIUSU/4uMakcuGF0sUXx3sVMZKRIX3pS9KqVdLu3VJtrfTzn/tyqaoqt9M0VYNfe7sblZgMwU+i6gcAwGgcU/HjfB/GwM/gN13SjgH3m8KPDWGMmSWpQtIz4fsZkr4l6XM+rg+J4IIL3NbP6mrpAx+QbrpJ6uqK6SXGj5cqK1M3+HkdPRM9+BUXu1vO+QEAEJ2+PmnPHip+iA0/g5+J8NhwnTyukPS4tbY3fP96SSuttTuGeb27gDHXGmPqjTH1Ld6QEySfmTOlZ5+VPv1p6e67pSVLpKammF6ipiZ1g19Dg7tN5FEOEhU/AABGa98+qbeXih9iw8/g1yRpYI/BGZJ2DvPaKzRgm6ekt0q6wRizVdKdkj5qjPn64DdZa79vra211tZO4v8IyW3cOHeA8bHHXEJ7y1uOlrJioKZGamyUDh+O2UcmjHXr3FnvWbPivZKRUfEDAGB0vLrGpFJLxQ9j5mfwq5N0ijGmwhgzTi7c/Wbwi4wxcyQVS+ofsW2t/ZC19iRrbbmkz0r6sbV2SFdQpKAPfECqq3NjHj7+cfdrrhioqXHbJWKYJRNGQ4M0d66UmRnvlYyMih8AAKPjTXCYWnhQ6uyk4ocx8S34WWt7JN0gaZWk9ZJ+Zq1dZ4z5qjHm3QNeulzSo9b6PNANyWPuXOmee6Tnn5fuvTcmH5nKnT2ToaOnRMUPAIDR8ip+ZRnM8MPYZfn54dbalZJWDnrsy4Pu336cz/iRpB/FeGlIdMuXSz/9qfTFL0rvfrfrzjIGs2dLOTmpF/wOHJC2b0+O4EfFDwCA0fEqfpPk7fmk4ocTl8DjnpHWjJHuv9/tX7z2Wrf1cwyyslw4SrXgt2GDu02G4JeX58I3FT8AAKLjVfxCXVT8MHYEPySuGTOkb35Tevpp6aGHxvxxqdjZ0+vomQzBT3JVPyp+AABEp7nZHZXI2kfFD2NH8ENiu+YaN97hM5+Rdg7XFDY6NTXSrl1Sa2tslpYIGhpcQ9Qx7oQNTHExwQ8AgGi1tISLfP17Pgl+OHEEPyS2jAzpgQdcJ6vrrx/Tls9UbPDidfTM8vW0buyEQmz1BAAgWs3N4azX0iKNHy/l58d7SUhiBD8kvtmzpTvukP77v6Wf//yEPyYVg9+6dcmzzVOi4gcAwGj0j+5jhh9iIEnqBEh7N90k/exn0g03SOeeK5WWjvojpk6VJk5MneDX0SFt3SpddVX4gdZW6eyzE7eklpOj0+f+So/vWxDvlQAAkBRaWqR3vlPSlha2eWLMCH5IDllZ0oMPSosWSTffLP3kJ6P+CGNSq8HLxo1u52t/xa++3u39vOyyxPvL4dAh6ZFHVFW+Wj9oI/gBAHA8vb3Snj3hQt8Lza7pHTAGBD8kj5oa6f/9P+mf/9nN+bv00hP6iB/9SOrrc8cHk9mQjp6bNrnb735XmjYtLmsa1v790iOPaGJmm/btc4HVmHgvCgCAxLV3r/v7sv+M38KF8V4SklyS/+iLtPOFL0hVVdI//qMLE6NUUyMdPCht2+bD2gLW0OAKobNnhx9obHSHvqdOjeu6IiookIxRsWlXb6/bpgoAAIbnNfKcPMkO6PICnDiCH5JLTo7b8rlzp3TbbaN+eyo1eGlokE49VcrODj/Q2OhSYCKW0jIypKIiTehznV0S9RgiAACJwhvePjW/XeruprkLxozgh+Rz5pmu2ct990nPPjuqt1ZXu9tUCX5VVQMe2LRJOuWUuK3nuIqKVNDbLonOngAAHI9X8SvLZHg7YoPgh+R0xx1uavk//IN0+HDUbysslMrLkz/4HTkivf76gPN9PT3S5s0JH/zyu13wo+IHAMDIvIpfaZ+355OKH8aG4IfklJ8v/eAHrsp1++2jemsqdPbcuNE1qOkPftu2ufCXyMEvFFJupyv1UfEDAGBkzc3u9EZRFxU/xAbBD8nrnHOka66R7rzTjTKIUk2NC06dnT6uzWfDdvTs7/SSgIqKNO4wFT8AAKLR0uLmD2e2UvFDbBD8kNy++U2prEz6+Melrq6o3lJT42bjbNjg89p81NAgZWYOKPA1NrrbRK74FRUpq4MzfgAARKO5OZz1Wqj4ITYIfkhuRUXS/fe7vZv//u9RvcXr7Ll2rY/r8llDgyvu5eSEH2hslMaPdyE4UYVCythPV08AAKLR0hLOes3N0oQJA/7SB04MwQ/J713vkq64wjV88fZAjsAbgZDM5/waGgZs85TcVs9EHeXgKSqS2b9fRRMsFT8AAI7jmIof1T7EAMEPqeGee9xvw66+2u3jHEF2tjRvXvIGv64uV+A7ZpRDY2Nib/OUpFBI6u3VtKIOKn4AABxHS0s4+PUnQGBsCH5IDZMmufD3/PPSvfce9+XJ3Nnztddctj1mlMOWLYkf/IqKJEkzC9uo+AEAMIKeHqm1NVzoo+KHGCH4IXUsXy4tXSp98Ytupt0IamqkHTuSs8nIkI6eW7e6vyESuaOn1B/8po1vp+IHAMAI9uxxt1T8EEsEP6QOY1yjl8xM6dprJWuHfWkyN3hpaJAyMtxZRUlHRzkkesUvFJIkTc2j4gcAwEj6G3mW9LkUSMUPMUDwQ2qZMcONeHj6aemhh4Z9mRf8knG7Z0ODVFkp5eWFH0iGUQ5Sf8Vv0jgqfgAAjKQ5PLpvWn6b29VDxQ8xQPBD6rnmGmnJEukzn5F27oz4khkzXA5J1uB3TEfPxkapoECaMiVua4rKgOBHxQ8AgOF5Fb8pGczwQ+wQ/JB6MjKkBx6QOjul66+PuOXTmORs8NLd7Zq7JN0oB6l/q+fEjDYdPOi+FwAAMJRX8SvtC39BxQ8xQPBDapo92831++//ln7+84gv8YLfCEcBE87rr7vANKTil+jbPKX+il/ItEuS2tvjuRgAABJXS4v7PfaETip+iB2CH1LXTTdJixdLN9xwtD3WADU1Lnw0NcVhbSfI6+jZP8Ovu9uNckj0jp6SlJsrZWdrgnWJj3N+AABE1twslZZKGXuo+CF2CH5IXVlZ0oMPupkNn//8kKeTscHLunVuR+fcueEHtm1zQ/2SoeJnjBQKqbDXHfDjnB8AAJH1j+7zDvuVlsZ1PUgNBD+ktpoa6fLLpd//fshT1dXuNpmCX0ODVF4u5eeHH0iWjp6eoiLld1PxAwBgJP2j+5qb3Rn5cePivSSkAIIfUt/pp0u7dkl79x7zcCgkzZyZfMFvyPk+KTm2ekpSUZFyO13wo+IHAEBk/RU/hrcjhgh+SH3egbh164Y8lUydPXt6pI0bI3T0TIZRDp5QSDmHXeKj4gcAQGT9ea8/AQJjR/BD6vOC39q1Q56qrpbWr0+O0QJbtrgJFRE7eib6KAdPUZGyOqj4AQAwnK4u93ckFT/EGsEPqW/mTKmwcNiKnzcbL9F5HT2TcpSDJxSSOdCuceOo+AEAEInXiJyKH2KN4IfUZ4yr+g0T/KTk2O7pBb9588IPdHdLW7cmz/k+SSoqkmlrUyhExQ8AgEi84e2TS/tcCqTihxgh+CE9VFdH3Oo5d66UmZkcwW/dOumkk1zxUpILfckyysFTVCQdPKjSUA8VPwAAIvAmOEzN2Sv19VHxQ8wQ/JAeqqrcb828X6OF5eRIc+YkR/AbtqNnMgW/UEiSNL1wPxU/AAAi8H5UKctgeDtii+CH9OAN7YtQ9UuGzp69va4JzZCOnlLSbfWUpGnj2wl+AABE4FX8SvrCX1DxQ4wQ/JAejjPSYetW6cCBYJc0Gtu2SUeORKj4FRYm128Cw8GvLK+drZ4AAETQ3CxlZUkFh6j4IbYIfkgPZWVScfGIDV4iFAMTxogdPZNllIPUv9VzSk4bFT8AACJoaZFKS6WMVip+iC2CH9KDMcM2eEmGzp5DOnpKLvgl0zZPqb/iV5rtKn7Wxnk9AAAkmP7Rfd5hv9LSuK4HqYPgh/ThjXQYlDZmzZIKChI/+E2f3l8wc9Ndt25NrsYuUn/wK8lqV0+PdOhQnNcDAECC6R/d19IiTZzo9n0CMUDwQ/qornbD43buPObhjAz3VKIHv2O2eW7d6lo8J1vwCyfXkNw+T875AQBwrGMqfpzvQwwR/JA+jtPg5dVXE3PrYV/fCKMckm2r54QJkqQitUtiiDsAAIMdU/HjfB9iiOCH9HGc4Ld3r7RrV8BrisKOHVJHxzCjHJKt4pedLeXnq6DXBT8qfgAAHNXZKe3fT8UP/iD4IX1MmuT+A5pkDV6G7eg5YUJy/iYwFNL4blfqo+IHAMBRLQMbeVLxQ4wR/JBevAYvgyRD8IvY0TOZRjl4ioqU20nFDwCAwbxGnpNLeqXWVip+iCmCH9JLdXXEzp4lJdLUqYkb/KZMcWvst2lT8m3z9IRCyjnCGT8AAAbzKn7Tc1vdzypU/BBDBD+kl6oq6eBBafv2IU95DV4SzZDGLsk6ysFTVKSsg3T1BABgsP6Kn7wvqPghdgh+SC/V1e52mHN+DQ1ST0/AaxqBtW5NXl8aSdKWLa7VZ7J19PQUFcnsb9eECVT8AAAYyAt+Jb0EP8QewQ/p5TidPTs7jzbMTARvvOG6e6VER09PKCS1tSkUouIHAMBALS2uAfb4QwO7vACxQfBDegmFpGnTkqbBy7AdPaXkDX5FRVJ7u4qLqfgBADCQN8HBtFDxQ+wR/JB+qqsjbvWcN0/KyEiS4FdUJJWWxmVNY1ZUJHV2avKEI1T8AAAY4Jjh7cZIEyfGe0lIIQQ/pJ+qKmn9eqm395iH8/JcES3Rgl9p6aCdHps2Je8oB8lVXSVNG99OxQ8AgAH6Z7Y3N7sfADIz470kpBCCH9JPdbV0+LBrkjJIonX2HNLRU3IVv2Td5im5ip+ksrx2Kn4AAAxwTMWP832IMYIf0s9xGrxs3ix1dAS8pgi8jp5DRjls25YSwW9KLhU/AAAGOqbix/k+xBjBD+nHS1LDBD9rIz4VuN27XdfLlBrlIPVv9ZyU3aYDBxJrfAYAAPFy6JD7xTMVP/iF4If0U1gozZo17Cw/KTG2e3rhM6U6ekr9Fb+Jme2SpPb2eC4GAIDE0BKe4EDFD34h+CE9VVVFLOtVVkr5+YkR/FJylIPUH/yKM1zi45wfAAADgl9xt/vLkYofYozgh/RUXS1t2DBkn2FGhsuEiRL8ioulKVMGPLhpkwtOJSVxW9eYhbd6Fll3wI9zfgAAuCKfJE0bt8d9QcUPMUbwQ3qqqnKNUjZtGvJUonT29Bq7HDO1wevomayjHCSpoEAyRgW9VPwAAPD0V/xM+Asqfogxgh/SU3W1ux3mnF9Li2uuEk8pOcpBcmXVoiKN73HBj4ofAABHK34lveEvqPghxo4b/Iwx+caYLxljHgjfP8UYs8z/pQE+mjvXVc2G6ewpxbfq19Ii7dkzKPh1dkrbtyd3R09PUZHyOl3io+IHAID7uz83V8o7SMUP/oim4vdDSZ2S3hq+3yTpX3xbERCE/HzXySVBg1/Exi7eKIdkr/hJUlGRxh2h4gcAgKe52WU900LFD/6IJvidbK39hqRuSbLWHpaUxAeMgLDq6ohbPSdPdn8iPBUYL/gdM8MvFTp6ekIhZR5oU3Y2FT8AAKQBExxaWqTMTNfhDYihaIJflzEmT5KVJGPMyXIVQCC5VVW5MNU59H/O8W7wsm6dNGGCNG3agAe94JciWz1Ne7tCISp+AABIA2a2NzdLpaXuTDwQQ9H8L+orkv4gaaYx5hFJT0u61ddVAUGornbjHF57bchTNTUufPX1xWFdGqaj56ZNbhRCMo9y8BQVSe3tKi6m4gcAgDSo4sf5PvhgxOBnjDGSNkh6r6QrJa2QVGut/aPvKwP85u2jHOac36FD0ubNAa8pbMSOnsk8ysETLvVR8QMAQLJ2UMWP833wwYjBz1prJf3aWttqrf2dtfa31to9Aa0N8NecOW4PfYI1eGltdaMkIga/VNjmKbmK3/79Kg5ZKn4AgLTX0SEdPjyg4kfwgw+i2er5vDFmse8rAYKWk+MqaBG6uFRVucJaPILf+vXuNuIoh1Ro7CK54NfbqykFHVT8AABpr2XgBAevvScQY1lRvOYcSf9ojNkmqUOuo6e11p7m68qAIFRVSa+8MuTh/Hzp5JPjE/wijnLYvNntA0mV4BcKSZKm5bdp376COC8GAID48oa3lxV3Su3tVPzgi2iC3yW+rwKIl+pq6Ze/dPsr8vKOeSpenT0bGqSCAumkkwY8mEqjHCRX8ZM0OaddbW0zZG1qHF0EAOBEeBW/sqzwiSoqfvDBcbd6Wmu3SQpJelf4Tyj8GJD8qqpcJW3DhiFP1dS4vHX4cLBLWrdOmjcvQkdPKbXO+EmaNK5d3d3B/zMGACCReBW/KYbh7fDPcYOfMebTkh6RNDn852FjzI1+LwwIRHW1ux2mwUtf39Ezd0EZtqNncXFqjHKQ+rd6lmS6A340eAEApDOv4jexd+BhPyC2omnucrWkM621X7bWflnSWZKu8XdZQEBmz5aysyM2eIlHZ8+2NmnnzhFGOaSKcMWvOKNdEiMdAADprbnZ9RfI3U/FD/6JJvgZSb0D7veGHwOSX3a2G+sQoeI3e7aUmxts8IvY0VNyWz1TZZun1F/xK5ILflT8AADprH+GXwsVP/gnmuYuP5T0gjHmV+H7l0l60L8lAQGrrpaef37Iw5mZLoAFGfwidvQ8csSNcrjyyuAW4rdwxa+w15X6qPgBANJZ/8z25mYpK6v/F6RALEXT3OXbkq6StFfSPklXWWvv8nthQGCqqqStW6WDB4c8FXRnz4YG11y0vHzAg6k2ykFypdTsbI3voeIHAEB/8PNKf7S6hg+iae5ylqRGa+091tq7JW0yxpzp/9KAgHgNXrxy2wA1NdKuXVJrazBLaWhwHT0zBv4/M9U6ekruL7RQSHmdVPwAAOjf6tmfAIHYi+aM332SBpZCOsKPAamhqsrdDtPZUwqu6jdsR08ptSp+klRUpHFHqPgBANKbtREqfoAPomruYq213h1rbZ+iOxsIJIfKSrf1MM7B78ABd5QvYvCbONH9SSVFRcrY367CQip+AID0deCA1NVFxQ/+iyb4bTbGfMoYkx3+82lJm/1eGBCYzEy3vzLCSIeyMjc6L4jgN2xHz8bG1Nrm6QmFpLY2hUJU/AAA6at54AQHKn7wUTTB7zpJb5P0hqQmSWdKutbPRQGBq6qKWPEzJrgGLxE7ekrujF+qbfOUXGfP9nYVF1PxAwCkL2+Cw5SiI678R8UPPommq2eztfYKa+1ka+0Ua+0HrbXNQSwOCEx1tdTUFDGB1NS4YmBfn79LaGiQcnKkiooBDx45Iu3YkdLBj4ofACCdeRW/qVnM8IO/ounq+Q1jzITwNs+njTF7jDEfDmJxQGC8Bi/DdPY8eFDats3fJTQ0uFnyWQNP0L7+ujv1ncJbPan4AQDSWf/Mdg3c8wnEXjRbPS+01u6XtExuq+epkj7n66qAoHkjHeLY4CViR09vlEOqVvwOHlTxhF4qfgCAtOVV/Cb2UPGDv6IJftnh20slrbDW7vVxPUB8nHSSNH58xAYvXjHQz+DX0eFmyHvX6peqoxwkF/wkTR2/n4ofACBttbRIBQVSTjsVP/grmuD3P8aYDZJqJT1tjJkk6Yi/ywIClpHhym0RKn6FhVJ5ub/Bb8MGt6Nz2FEOxcX+XTxeQiFJ0pScNu3fL/X2xnk9AADEwTEz/CSCH3wTTXOX2yS9VVKttbZb0iFJ7/F7YUDgqqsjVvwk/zt7pl1HT6m/4jdpnBvi3t4ez8UAABAf/RMcmpulcePcb5wBH0RT8ZO1dp+1tjf8dYe19k1/lwXEQVWVtHu3tGfPkKdqaqSNG6XOTn8u3dAgZWdLJ5886InGxtQNfuGKX0mWS3yc8wMApKP+ip/3hTHxXhJSVFTBD0gLx2nw0tvrtmT6oaFBOvVUF/76HT6cuqMcpP6KX7FxB/w45wcASEctLQxvRzAIfoDH66wSh86eETt6bt7sblNxlIPUH/yKRMUPAJCerHWFvv6tnpzvg4+GDX7GmIuMMe+L8PiHjDEX+LssIA6mT3dhJELw86pxfgS/w4ddxovY2EVK3YpfeKtnYR8VPwBAemprk3p6qPghGCNV/P5Z0rMRHn9a0lf9WQ4QR8a4ql+EBi/Z2dK8ef4Ev9dek/r6RhjlkKoVvwkTJEnju6n4AQDSU8vA0X1U/OCzkYJfvrW2ZfCD4cYu46P5cGPMxcaYjcaYTcaY2yI8/x1jzJrwn9eMcYd9jDELjDF/NcasM8a8Yoy5PNpvCBiTqipX8bN2yFN+dfb0CowRO3qWlKTmKAfJpen8fOWHgx8VPwBAuvGGt0+d0CEdOkTFD74aKfjlGmOyBj9ojMmWlHe8DzbGZEr6rqRLJM2XtNwYc8yPttbam621C6y1CyTdK+mX4acOSfqotbZK0sWS7jLGhKL5hoAxqa6WWltdd89BamqkpqbYV6YaGqTMzAg7OlO5o6cnFFLWwTZlZVHxAwCkH6/iV5bJDD/4b6Tg90tJDxhj+qt74a/v19GANpIzJG2y1m621nZJelQjz/9bLmmFJFlrX7PWNoa/3impWRK/AoH/omjwMsyovxPW0ODy3bhxg55Ih+BXVCSzv13FxVT8AADpx6v4TdLAPZ+AP0YKfv8kabekbcaY1caYFyVtldQSfu54pkvaMeB+U/ixIYwxsyRVSHomwnNnSBon6fUorgmMzXFGOkix3+4ZsaPn4cOuvJiq5/s8RUVSe7tCISp+AID041X8irvDCZCKH3w0ZCunx1rbI+k2Y8w/S/J++txkrT0c5WdHmj459OCUc4Wkx70h8f0fYMxUST+R9DFrbd+QCxhzraRrJemkk06KclnACCZPdufqIpT1ZsxwOSWWwa+z0x3le//7Bz3xevj3HKle8QuFpNZWhUJU/AAA6ae52f1skd1GxQ/+Gzb4GWPeO+ghKylkjFljrT0QxWc3SZo54P4MSTuHee0Vkj456PoTJP1O0j9Za5+P9CZr7fclfV+SamtrhwuVQPSMcVW/CBU/Y2Lf4KWx0Q2GT7tRDp6iImnzZhWXU/EDAKSf/gkOzVT84L9hg5+kd0V4bKKk04wxV1trh2zLHKRO0inGmApJb8iFuw8OfpExZo6kYkl/HfDYOEm/kvRja+3Pj3MdILaqqqSHH3adPc2xheuaGumnP4341AlpaHC3ETt6Smm11XPbtngvBgCAYPVPcGhpkXJzR4f9HgAAIABJREFUpfFRNc4HTshIWz2vivR4+DzezySdOdIHW2t7jDE3SFolKVPSQ9badcaYr0qqt9b+JvzS5ZIetfaY/vkfkHS2pBJjzJXhx6601q6J4nsCxqaqStq/X3rjDbe/c4CaGqm9XVqzRpo6deyXqquTMjKkOXMGPdHYKJWW9g85T1nhPZ7FxVT8AADpp6VFqqzU0QQYi98qA8MYqeIXkbV2W3ikQzSvXSlp5aDHvjzo/u0R3vewpIdHuzYgJrwGL2vXDgl+Cxa424ULY3e5OXPcL/mOkQ4dPSVX8evsVElBp9racmJWSQUAIBk0N0tnnSWpqYXzffDdqINfeGtmpw9rARLDwJEOF198zFNnneW2era3x+5yixdHeLCxUTr33NhdJFGFK5plee3q6pqsw4el/Pw4rwkAgAD09Ul79oTz3ovNnO+D70Zq7vI/GtqFc6KkqZI+4ueigLgqKZHKyoZt8LJ8uc/XP3TIbTNNl4qfpEnZbZImq62N4AcASA/79rkGb/1n/LxfPAM+Ganid+eg+1ZSq6TG8EB2IHVVVcV+Unu00mWUg9Qf/EqyXAl13z5p2rR4LggAgGB4M/wmT7IDurwA/hmpucuzkR43xrzdGPNBa+0nIz0PpISqKunBB90+jIyMYK/tjXJI9Y6eUv9Wz2Ljhvgxyw8AkC68CQ5lhR3SkSOc8YPvovqJ1hizwBjzDWPMVkn/ImmDr6sC4q26WuroiM+MAW+UQxpV/ELGVfwIfgCAdOEFv6mZzPBDMEY643eq3Oy95XJbPB+TZKy15wS0NiB+BjZ4qagI9tqNje63fuFQlNLC32Nh39GtngAApANvq2ep9fZ8Evzgr5EqfhsknSfpXdbad1hr75XUG8yygDgbGPyCli6jHKT+rZ4FPWz1BACkF6/iF+oKf8FWT/hspOD395LelPS/xpgHjDHnSWLCFtJDUZGb4RePBi+bNqXH+T5JKiiQjFFuJxU/AEB6aWmRioulrL1s9UQwhg1+1tpfWWsvlzRX0h8l3SxpijHmPmPMhQGtD4if6urgK37pNMpBco1zJkxQ5sF2FRRQ8QMApI/+Rp7enk8qfvDZcZu7WGs7rLWPWGuXSZohaY2k23xfGRBvVVXS+vVuyE5Q0qmxiycUktraFApR8QMApI+WlnDWa26Wxo9nkC18N6o+9dbavdba71lrz/VrQUDCqKpy7ZU3bw7uml7wS5etnpLbVtveruJiKn4AgPRxTMWPah8CEPCAMiCJVFe72yC3e3oz/NKp4hcOflT8AADp5JiKH+f7EACCHzCcefPcbZANXhob3X/8J0wI7prxFt7qScUPAJAuenulPXuo+CFYBD9gOAUFboZfkBW/dOro6aHiBwBIM3v3StZS8UOwCH7ASKqqgq/4pdM2T8lV/DjjBwBII94Mv8mTLBU/BIbgB4ykqkrauFHq7vb/Wh0d0s6d6Rf8vIpfkVV7e7BNVAEAiAdvgkNZ/n6pq4uKHwJB8ANGUl3tQp/XdMVPr7/ubtNxq2dvryaP75Ak7d8f5/UAAOAzr+I3NYsZfggOwQ8YSVWVuw3inF86dvSU3FZPSZOy3T5PzvkBAFKdF/xKrbfnk4of/EfwA0Yyd66UkRFs8EvHip+k0ux2SZzzAwCkvpYWyRipqIuKH4JD8ANGkpcnnfz/27v3OLnr+t7jr8/mQhIgM0vCLXIVQWpAURFFELnIRQ3ihQq2HrHYals953H09DyOntr2PDw9rT3W42kftTVovbQVL/GUZFdARIWqiBUthEhiIEYsCJglmAsJCWT3e/74/WaZLJtkks3M7zKv5+Mxj5md+c3sZ38Mk33v53s5oTcLvPTjVg4wHvwGB7LgZ8dPklR369bBvHkw7VE7fuodg5+0J6ec0puO35o1/TfME8aHejbJWn12/CRJdTe+kOeIHT/1jsFP2pOFC7Nu3Pbt3f0+/biVA4x3/A4es+MnSeoP41v3rVsHBx8Ms2YVXZL6gMFP2pOFC7M9Blav7t73ePxxePjh/pvfB+PB78BR5/hJkvrDTh0/u33qEYOftCennJJdd3O4Z2srh37s+OVDPQ/YuoFp0+z4SZLqb6eOn/P71CMGP2lPTjoJpk/v7gIv/bqVA2TDW2bMIDZtZHDQjp8kqd527IDHHmvr+Bn81CMGP2lPZs7Mwl83O379upUDZOtZN5uwcSPNph0/SVK9Pfpodj3e8XOop3rE4Cd1YuHC7nb81qyBww/PJnj3o0YDNmyw4ydJqr3xhTznJzt+6imDn9SJhQth7VrYurU7r9+vK3q2NBp2/CRJfWFdvnXfgjkbsnGfdvzUIwY/qROnnAIpwapV3Xn9fg9++VBPO36SpLprdfwODzdvV28Z/KROLFyYXXdjnt/jj8Mjj/Tn/L6WfKinHT9JUt21On7zk5u3q7cMflInnvOcbJGXbgS/NWuy637u+LUN9bTjJ0mqs5ERGBiAudvs+Km3DH5SJ6ZPh5NP7s4CL/28lUNLnvgGB2H7dnjiiaILkiSpO9atg/nzYWC9HT/1lsFP6tQpp3S343fCCfv/taui0YDHH2dw7ihg10+SVF87bd4OBj/1jMFP6tTChfDzn8Pmzfv3de+7D444on+3coAs+AGHHrAJcJ6fJKm+RkbaNm9vNLKpJFIPGPykTrUWeFm5cv++br+v6AnZUE9g/vSs1WfHT5JUVzt1/Jzfpx4y+EmdOuWU7Hp/D/dcs6a/V/SE8Y7fIdM2Anb8JEn1tVPHz2Ge6iGDn9Sp44+H2bP37wIvmzdnWzn0e8cvD34NsuBnx0+SVEdPPpn9G2fHT0Uw+EmdGhiA5z1v/3b83Mohkw/1nDvmUE9JUn09+mh2bcdPRTD4SXtj4cL92/FrbeXgUE8ADtzhUE9JUn21FvI8bP5YlgLt+KmHDH7S3li4EB56aP+1pFodv34PfnnHb/qWjRx4oB0/SVI9jeRb9x0561cwOmrHTz01vegCpEppLfBy0UVw4IFTf7377oMjj4SDDpr6a1XZ3LnZ9YYNNJt2/CRJ9dTq+B0x0Gr92fFT7xj8pL1x9tlw6aWwcSOMjU399U44AV7zmqm/TtXNmAFz5sDGjQwO2vGTJNVTq+M3byy/YcdPPWTwk/bG3LkwNFR0FfXUbMLGjXb8JEm1tW4dTJ8OB22146fec46fpHJoNGDDBjt+kqTaGhmB+fNhYL0dP/WewU9SOTQadvwkSbU2vnVfa7Lf/PmF1qP+YvCTVA7Nph0/SVKtjYy0Bb9DDsnmuEs9YvCTVA5tHb/9tXaOJEllsm6dm7erOAY/SeWQB7/BQUgJNm0quiBJkvavnYZ6urCLeszgJ6kc8qGe+V7uzvOTJNXKtm2webMdPxXH4CepHBoN2L6deQdtB5znJ0mql9Yefnb8VBSDn6RyaDQAmDd9I2DHT5JUL63gd+gho7B+vR0/9ZzBT1I55GM8DxnIWn12/CRJddLaweFZs9Znk9nt+KnHDH6SyiHv+DXDjp8kqX7Gh3qGm7erGAY/SeWQd/zmpiz42fGTJNVJq+M3bzS/YcdPPWbwk1QOecdv9vYNTJtmx0+SVC8jI9l+7QduteOnYhj8JJVDHvxi08bWzg6SJNVGayHPGLHjp2IY/CSVQ2sDv41Z8LPjJ0mqk/Gt+0ZGIALmzSu6JPUZg5+kcjjooOwfwg0bGBy04ydJqpfxrfvWrctC37RpRZekPmPwk1QOAwMwd64dP0lSLe3U8XN+nwpg8JNUHvnkPjt+kqS62anj5/w+FcDgJ6k8Gg07fpKk2tm6FbZsyfOeHT8VxOAnqTzy4GfHT5JUJyPtOzjY8VNBDH6SyiMf6tlswrZt2UWSpKprbd5++Lwd8NhjdvxUCIOfpPJo6/iBXT9JUj20On5Hzng0u2HHTwUw+Ekqj7Y5fuA8P0lSPbQ6focN5AnQ4KcCGPwklUezmQW/RgLs+EmS6qHV8Zu3I0+ADvVUAQx+ksqj0YDRUebN2gLY8ZMk1cO6dTBrFsze3Gr92fFT7xn8JJVHPsbzkGkbATt+kqR6aO3gEI+2L+8p9ZbBT1J5NBoANMkSnx0/SVId7LR5+8AAHHJI0SWpDxn8JJVHHvzmJjt+kqT6GN+zfWQE5s/Pwp/UY77rJJVHPtRzxtaNzJljx0+SVA87dfyc36eCGPwklUfe8Wtt4m7HT5JUdSlN6Pg5v08FMfhJKo9W8Ms3cTf4SZKqbssWeOIJO34qnsFPUnm0dm7PO34O9ZQkVd1I+0KedvxUIIOfpPKYNQtmzLDjJ0mqjXX51n2HDz6Z/cNmx08FMfhJKo+IbLjnxo12/CRJtdAKfgtmPprdsOOngkwvugBJ2km+qsvgfDt+klRXKcGll8Ly5UVX0n1bt2bXh5EnQDt+KojBT1K5tDp+z8mC39iY2x1JUt3ceSdcfz1ceCEcfXTR1XTfggVw5PT2yX5S7xn8JJVLHvwGB7O/CG/e/PRin5KkeliyBKZNg2uvzfYz7wuft+OnYvl3dEnlkg/1bC3w6Tw/SaqXlODLX4YLLuij0AcTlveUes/gJ6lc2jp+4Dw/SaqbO++EtWvh13+96Ep6bN06mD796a2LpB4z+Ekql2ZzfFVPsOMnSXXTGub5+tcXXUmPjYxkLU4nrqsgvvMklUujAZs3Mzh3FLDjJ0l1klIW/M4/v8+GeULW8XN+nwpk8JNULvlKLodM3wTY8ZOkOrnrLvjpT/twmCdkHT+Dnwpk8JNULvkYz2ZsBOz4SVKdtIZ5vuENRVdSgHXrXNhFhTL4SSqXvON34FMbGBiw4ydJddEa5nneeX04zBMc6qnCGfwklUse/AY2b2zt7CBJqoHly2HNmj4d5rltW7YxrR0/FcjgJ6lcWst55nv52fGTpHro62GerT387PipQAY/SeWSd/xae/nZ8ZOk6msN8zz33D5terl5u0rA4CepXNqCnx0/SaqHu++G++7r02GekM3vAzt+KpTBT1K5tILfhg12/CSpJpYsyfYt78thnmDHT6XQ1eAXEZdExOqIWBMR75/k8Y9FxF355d6I2ND22FURcV9+uaqbdUoqkRkzYM4cO36SVBPtwzz7tuFlx08lML1bLxwR04CPAxcCDwJ3RMRQSmll65iU0nvbjv+PwAvz24cAfwKcDiTgR/lz/RVQ6geNhnP8JKkmVqyAe++F972v6EoKNDKS/WFz7tyiK1Ef62bH7wxgTUppbUrpSeCLwGW7Of4twBfy2xcDN6eUHsvD3s3AJV2sVVKZ5Ps4NJvwxBOwfXvRBUmS9tWXv9znwzzh6T38IoquRH2sm8HvWcADbV8/mN/3DBFxLHA88K29fa6kGmrr+IFdP0mqKod55kZGnN+nwnUz+E32J420i2OvBL6SUhrdm+dGxDsj4ocR8cOR1qRZSdXXbI7P8QPn+UlSVbWGefbtap4trY6fVKBuBr8HgaPbvj4KeGgXx17J08M8O35uSumalNLpKaXTD/WvKFJ9NBrjq3qCHT9JqqrWap5vfGPRlRTMjp9KoJvB7w7gxIg4PiJmkoW7oYkHRcRzgUHg9ra7bwIuiojBiBgELsrvk9QP8qGedvwkqbpawzxf+UqbXXb8VAZdC34ppR3Ae8gC2yrgyymleyLiQxHxurZD3wJ8MaWU2p77GPA/ycLjHcCH8vsk9YMJQz3t+ElS9fz4x7B6tcM82boVtmyx46fCdW07B4CU0g3ADRPu++MJX/+PXTz308Cnu1acpPJqNGDbNgbnbAcOsOMnSRXkMM9cax0KO34qWFc3cJekfdJoANCMjYAdP0mqmtYwz3POgcMPL7qagrWCnx0/FczgJ6l88jGeBzyxgdmzneMnSVVzzz3wk584zBPI5veBHT8VrqtDPSVpn+Qdv9Y8Pzt+klQtS5Zke5Xvdpjne94Dd93Vs5oKY8dPJWHwk1Q+bcFvcNCOnyRVTWuY5xFH7OKANWvg4x+HU0+tfyfs6KPhpS+FY48tuhL1OYOfpPJpW87Tjp8kVcs998CqVfDud+/moGXLsuuhITjuuF6UJfU95/hJKh87fpJUWa1hnm96024OWroUXvACQ5/UQwY/SeXjHD9Jqqw9DvNctw5uuw1e//qe1iX1O4OfpPI5+ODsz8UbNjA4aPCTpKq45x5YuXIPq3l+9avZfg+XXdazuiQZ/CSV0cAAzJ27U8dvbKzooiRJe9LxMM9jjoHTTutZXZIMfpLKqtkcn+M3NgaPP150QZKkPVmyBF7xit0M89yyBW6+ORvmGdHT2qR+Z/CTVE6NxviqnuACL5JUditXdjDM8+tfh23bnN8nFcDgJ6mcGo3xjh84z0+Syq7jYZ6Dg1lbUFJPGfwklVM+1NOOnyRVw5IlcPbZcOSRuzhgxw4YHoZFi2C6W0lLvWbwk1RO+VBPO36SVH6rVmUreu52mOd3vpP9Fc9hnlIhDH6Syikf6mnHT5LKr6NhnsuWwQEHwEUX9awuSU8z+Ekqp9aqns0E2PGTpDJbsgTOOgsWLNjFASll8/suvBAOOqintUnKGPwklVOjAaOjHDywhQg7fpJUVj/5Cfz4x3sY5rl8Ofz85w7zlApk8JNUTo0GAAObn97EXZJUPkuWZNd7HOYZkS3sIqkQBj9J5dSa3Jfv5WfHT5LKqTXM81nP2s1BS5fCy18Ohx/es7ok7czgJ6mc8o5fay8/O36SVD6rV8OKFfDmN+/moPvvh7vucpinVDCDn6Ryagt+dvwkqZw6GuY5NJRdX3ZZ1+uRtGsGP0nl1DbU046fJJVTx8M8n/c8OPHEntUl6ZkMfpLKyY6fJJXa6tVw9917WM1z/Xr49rcd5imVgMFPUjm1On7O8ZOkUupomOf118PoqMFPKgGDn6RymjULZswYX9Vz61Z48smii5IktSxZki3UedRRuzlo2bJsV/cXv7hndUmanMFPUjlFZMM9844f2PWTpLK4994Ohnk+8QR87WvZoi4D/sopFc3/CyWVV7M5PscPnOcnSWXRGuZ5+eW7Oegb38iGazjMUyoFg5+k8mo0xlf1BDt+klQWS5bAmWd2MMxz7lw499xelSVpNwx+ksorH+ppx0+SyuO++2D58j0M8xwdzfbve81rYObMntUmadcMfpLKq9m04ydJJdPRMM/bb4eREYd5SiVi8JNUXnb8JKl0liyBl70Mjj56NwctW5atzPzqV/esLkm7Z/CTVF4Tgp8dP0kq1po1cNddexjmmRJcdx2cf342x09SKRj8JJVXswmbNzNrxiizZtnxk6SidTTMc+VK+OlPHeYplYzBT1J5NRrZ9aZNrel+kqQCtYZ5HnPMbg5aujS7ft3relKTpM5ML7oASdqlVvDbuJHBwUE7fpJqb3QUfvITGBsrupJn+uUv4c474aMf3cOBy5bBGWfAggU9qUtSZwx+ksqrbXKfHT9J/eDP/xz+6I+KrmLXIvYwzPPBB+GOO+DP/qxnNUnqjMFPUnnt1PHL/tosSXW1Ywf83d/BWWfBe99bdDWTW7BgD8M8h4aya+f3SaVj8JNUXq2OX76y5+rVxZYjSd10/fXw0EPw8Y9XODctWwYnnQQnn1x0JZImcHEXSeXV6vjlm7g7x09SnS1enHXUFi0qupJ9tGEDfOtbcNll2ZhQSaVi8JNUXm1DPVtz/FIqtiRJ6ob774evfQ3e8Q6YXtXxWDfemI1XrWy7Uqo3g5+k8powx29sDDZvLrYkSeqGT30qa5L99m8XXckULFsGhx8OL31p0ZVImoTBT1J5zZgBc+aMr+oJruwpqX6eegr+/u/h1a/ew8IpZbZ9O9xwA1x6KUybVnQ1kiZh8JNUbo3GeMcPDH6S6md4GB55BN71rqIrmYJbbsmGZDjMUyotg5+kcssn97U6fi7wIqluFi+Go47KOn6VtXQpHHggXHBB0ZVI2gWDn6Rys+MnqcbWroWvfz2b21fZRV3GxrL9+y65BGbNKroaSbtg8JNUbnnws+MnqY4++UkYGMhW86ysO+6Ahx92mKdUcgY/SeWWD/W04yepbp58Ej796WzfvqOOKrqaKVi6NFvQ5bWvLboSSbth8JNUbnnHb+7cbKlzO36S6mLZMli3ruKLukD2g5x7LuN/oZNUSgY/SeWWB7+BgeymHT9JdbF4cbZ9w8UXF13JFKxeDatWwWWXFV2JpD0w+Ekqt2YTtm2D7dtpNu34SaqHNWvgm9/MFnWp9LZ3y5Zl1wY/qfQMfpLKrdHIrvOVPe34SaqDT34yC3yVXtQFsuD3ohdVeOd5qX8Y/CSVW2s5z3xlTzt+kqruySfhM5+BSy+FBQuKrmYKHnkEbr/dbp9UEQY/SeXW6vjlK3va8ZNUddddByMjNVjUZXgYUnIbB6kiDH6Syq1tqKcdP0l1sHgxHHccXHRR0ZVM0dKlcPzxcOqpRVciqQMGP0nl1jbU046fpKq791645Rb4nd/JNm6vrM2bs9VpLrss22tHUulV+SNHUj9oG+rZbMKWLfDUU8WWJEn76pprYPp0uPrqoiuZoptugu3bHeYpVYjBT1K5TVjVE+z6Saqmbdvgs5/NmmRHHFF0NVO0dCnMmwdnnVV0JZI6ZPCTVG4HH5wNI8o7fuA8P0nV9M//DOvX12BRl6eeguuvz5YlnT696GokdcjgJ6ncBgZg7lw7fpIqb/FiePaz4YILiq5kir797eyD2G0cpEox+Ekqv0ZjfFVPsOMnqXpWrcry0jvfWfFFXSAb5jl7dg2WJZX6S9U/eiT1g2ZzfB8/sOMnqXquuQZmzIDf+q2iK5milGDZsiz0zZlTdDWS9oLBT1L52fGTVGFPPAGf+xy84Q1w2GFFVzNFd94JDzzgME+pggx+ksovD352/CRV0Ve+kv3BqvKLukA2zHNgABYtKroSSXvJ4Cep/PKhnrNmwQEH2PGTVC2LF8OJJ8J55xVdyX6wdCmcfTYcemjRlUjaS67BK6n88o4fwOCgHT9J1XHPPXDbbfCRj2Q70+xRSvDoozA62vXa9tovfgErVsBHP1p0JZL2gcFPUvk1m1nwS4lmM+z4SaqMxYth5kx4+9s7fMLf/i285z3dLGnqnN8nVZLBT1L5NRrZX7+3bGFw8CA7fpIqYetW+Md/hDe9CebP7/BJX/xiNi70fe/ram377Kij4IQTiq5C0j4w+Ekqv0Yju964kWbzIEZGii1HkjqxZEk2NL3jRV0efRS+9z344Afhd3+3q7VJ6j8u7iKp/Fr7OORbOtjxk1QFixfDc58L55zT4RNuuAHGxuB1r+tqXZL6k8FPUvm1On75Ju7O8ZNUditWwO23wzvf2eGiLgBDQ7BgAbzoRV2tTVJ/MvhJKr+dhnpmHb+Uii1JknZn8eJs+5mrrurwCdu3w003waWX7kVSlKTOGfwklV9rqGfe8RsdhccfL7YkSdqVLVuyRV0uvxzmzevwSbfemn2wXXppN0uT1McMfpLKb0LHD5znJ6m8vvQl2LRpLxZ1ARgehjlz4Pzzu1aXpP5m8JNUfm3Bb3Awu+k8P0lltXgx/Nqvwdlnd/iElLL5fRdeCLNnd7U2Sf3L4Cep/GbPhhkzYMMGO36SSu2uu+AHP8i6fR1P1bv7bnjgAVfzlNRVBj9J5ReRdf3aOn4GP0lltHgxzJoFb3vbXjxpaCj7nHvta7tWlyQZ/CRVQx78Wh0/h3pKKpvHH4fPfx7e/GbG/0jVkeFheOlL4fDDu1abJBn8JFVDvo+DHT9JZfWFL8DmzXu5qMtDD8Edd7iap6SuM/hJqoa84zd3bvalHT9JZbN4MZxyCpx55l486frrs2vn90nqMoOfpGpoNmHjRqZNyzKgHT9JZfKjH2WXvVrUBbL5fccdBwsXdqs0SQIMfpKqoi3tNZt2/CSVy+LF2QLEb33rXjxp61b4xjeybt9epUVJ2nsGP0nVkA/1hGzRBDt+kspi0ya49lq48krGF6DqyDe+Adu2Ob9PUk8Y/CRVQ7OZrZowOmrHT1KpXHstbNmyl4u6QDbMc+5cOOecrtQlSe2mF12AJHWk0ciuN21icHCQW26BK64otiRJArjtNnjBC+CMM/biSWNj8NWvwiWXwMyZXatNkloMfpKqoRX8Nm5k0aJBVq2Cu+8utiRJguzj6U/+ZC+n6d1xB/zyl67mKalnDH6SqqE1cWbDBq6+Gq6+uthyJGlKhodh2jR49auLrkRSn3COn6RqaOv4SVLlDQ3B2WfDIYcUXYmkPmHwk1QNBj9JdXH//bBihcM8JfWUwU9SNbQN9ZSkShsezq7dxkFSDxn8JFWDHT9JdTE8DCefDCeeWHQlkvqIwU9SNRj8JNXBpk1w6612+yT1XFeDX0RcEhGrI2JNRLx/F8e8OSJWRsQ9EXFt2/3/O79vVUT8dcReLZIsqW5mzIA5cxzqKanabroJnnrK+X2Seq5r2zlExDTg48CFwIPAHRExlFJa2XbMicAHgLNSSr+KiMPy+18OnAU8Pz/0u8ArgVu7Va+kCmg07PhJqrahIZg3D848s+hKJPWZbnb8zgDWpJTWppSeBL4IXDbhmN8BPp5S+hVASmldfn8CZgEzgQOAGcAvu1irpCpoNg1+kqprxw644QZ47WuzPfwkqYe6GfyeBTzQ9vWD+X3tTgJOiojbIuL7EXEJQErpduAW4OH8clNKaVUXa5VUBY2GQz0lVdf3vgePPeb8PkmF6NpQT2CyOXlpku9/InAucBTwnYg4BZgP/Fp+H8DNEXFOSunbO32DiHcC7wQ45phj9l/lksqp0YBf/aroKiRp3wwPw8yZcPHFRVciqQ91s+P3IHB029dHAQ9NcsyylNJTKaWfAavJguAbgO+nlB5PKT0O3Ai8bOI3SCldk1I6PaV0+qGHHtqVH0JSiTjUU1KVDQ3BuefCwQcXXYmkPtTN4HcHcGJEHB8RM4ErgaEJxywFzgOIiPlkQz/XAv8OvDIipkfEDLKFXRzqKfU7h3qm+yTqAAAPHklEQVRKqqrVq+Hee13NU1Jhuhb8Uko7gPcAN5GFti+nlO6JiA9FROtT7yZgfUSsJJvT919TSuuBrwA/BVYAy4HlKaXhbtUqqSJc1VNSVQ3nv8YsWlRsHZL6Vjfn+JFSugG4YcJ9f9x2OwHvyy/tx4wC7+pmbZIqqNmEbdtg+3Y44ICiq5Gkzg0PwwteAMceW3QlkvpUVzdwl6T9qtHIru36SaqS9evhu991NU9JhTL4SaoOg5+kKrrxRhgbc36fpEIZ/CRVR7OZXbvAi6QqGRqCI46AF7+46Eok9TGDn6TqsOMnqWqefBK+9rVsmOeAv3ZJKo6fQJKqw+AnqWr+5V9g82bn90kqnMFPUnU41FNS1QwNwezZcMEFRVciqc8Z/CRVhx0/SVWSUraNw4UXwpw5RVcjqc8Z/CRVx8EHQ4TBT1I1rFgBP/+5wzwllYLBT1J1DAzA3LkO9ZRUDcPD2fWiRcXWIUkY/CRVTaNhx09SNQwNwRlnZFs5SFLBDH6SqqXZNPhJKr9HHoEf/MBN2yWVhsFPUrU0Gg71lFR+X/1qdu38PkklYfCTVC0O9ZRUBcPDcOyxcOqpRVciSYDBT1LVNJt2/CSV2xNPwM03Z92+iKKrkSTA4Cepauz4SSq7b34zC3/O75NUIgY/SdXSCn4pFV2JJE1uaCjbd/SVryy6EkkaZ/CTVC3NJoyOwpYtRVciSc80NpYt7HLJJTBzZtHVSNI4g5+kamk0smuHe0oqox/9CB5+2NU8JZWOwU9StRj8JJXZ8DAMDMBrXlN0JZK0E4OfpGppNrNrV/aUVEZDQ3DWWTBvXtGVSNJODH6SqsWOn6Sy+vd/h+XLXc1TUikZ/CRVS6vjZ/CTVDbDw9m18/sklZDBT1K1tDp+DvWUVDbDw3DSSfDc5xZdiSQ9g8FPUrU41FNSGW3aBN/6lt0+SaVl8JNULbNnw4wZBj9J5fL1r8NTTzm/T1JpGfwkVUtE1vVzqKekMhkehsFBePnLi65EkiZl8JNUPY2GHT9J5TE6CtdfD699LUyfXnQ1kjQpg5+k6mk27fhJKo/bb4f16x3mKanUDH6SqseOn6QyGRrK5h5ffHHRlUjSLjkeQVL1NBrZ6nlXXFF0JZIEt9wC554Lc+cWXYkk7ZLBT1L1LFoEq1bB3XcXXYkkwaGHwrvfXXQVkrRbBj9J1XP11dlFkiRJHXGOnyRJkiTVnMFPkiRJkmrO4CdJkiRJNWfwkyRJkqSaM/hJkiRJUs0Z/CRJkiSp5gx+kiRJklRzBj9JkiRJqjmDnyRJkiTVnMFPkiRJkmrO4CdJkiRJNWfwkyRJkqSaM/hJkiRJUs0Z/CRJkiSp5gx+kiRJklRzBj9JkiRJqjmDnyRJkiTVnMFPkiRJkmrO4CdJkiRJNWfwkyRJkqSaM/hJkiRJUs0Z/CRJkiSp5gx+kiRJklRzkVIquob9IiJGgJ8XXUduPvBo0UX0Kc99sTz/xfHcF8vzXyzPf3E898Xy/BenrOf+2JTSoZM9UJvgVyYR8cOU0ulF19GPPPfF8vwXx3NfLM9/sTz/xfHcF8vzX5wqnnuHekqSJElSzRn8JEmSJKnmDH7dcU3RBfQxz32xPP/F8dwXy/NfLM9/cTz3xfL8F6dy5945fpIkSZJUc3b8JEmSJKnmDH57EBGXRMTqiFgTEe+f5PEDIuJL+eP/GhHHtT32gfz+1RFxcaevqaft6/mPiAsj4kcRsSK/Pr/tObfmr3lXfjmsdz9RdUzh3B8XEU+0nd9PtD3nxfl/kzUR8dcREb37iaplCuf/N9vO/V0RMRYRp+WP+d7vQAfn/pyI+LeI2BERl0947KqIuC+/XNV2v+/9Du3r+Y+I0yLi9oi4JyLujogr2h77bET8rO29f1qvfp6qmeL7f7TtHA+13X98/jl1X/65NbMXP0vVTOG9f96Ez/1tEfH6/DHf+x3q4Py/LyJW5p8v34yIY9seq8Znf0rJyy4uwDTgp8CzgZnAcuB5E475feAT+e0rgS/lt5+XH38AcHz+OtM6eU0v++X8vxBYkN8+BfhF23NuBU4v+ucr82WK5/444Me7eN0fAGcCAdwIvLron7WMl6mc/wnHnAqsbfva9/7+OffHAc8H/gG4vO3+Q4C1+fVgfnswf8z3fvfP/0nAifntBcDDQDP/+rPtx3rZ/+c/f+zxXbzul4Er89ufAH6v6J+1bJepnvu2Yw4BHgPm5F/73t9/5/+8tvP6ezz9e09lPvvt+O3eGcCalNLalNKTwBeByyYccxnwufz2V4AL8jR/GfDFlNL2lNLPgDX563Xymsrs8/lPKd2ZUnoov/8eYFZEHNCTquthKu/9SUXEkcDclNLtKfs0/Afg9fu/9FrYX+f/LcAXulpp/ezx3KeU7k8p3Q2MTXjuxcDNKaXHUkq/Am4GLvG9v1f2+fynlO5NKd2X334IWAdMuomxdmkq7/9J5Z9L55N9TkH2ueX7/5n217m/HLgxpbS1e6XWUifn/5a28/p94Kj8dmU++w1+u/cs4IG2rx/M75v0mJTSDmAjMG83z+3kNZWZyvlv9ybgzpTS9rb7PpMPefijwtvu5TTVc398RNwZEf8SEa9oO/7BPbymMvvrvX8Fzwx+vvd3byqf0bv73Pe935n98m9kRJxB9lf7n7bd/b/yIVof8w+BuzTV8z8rIn4YEd9vDTUk+1zakH9O7ctr9ov99fvhlTzzc9/3/p7t7fl/B1kHb3fPLd1nv8Fv9yb7pWjiMqi7OmZv79czTeX8Zw9GLAT+AnhX2+O/mVI6FXhFfvkPU6yzjqZy7h8GjkkpvRB4H3BtRMzt8DWV2R/v/ZcCW1NKP2573Pf+nk3lfern/tRN+Vzlf2X/R+C3UkqtzsgHgJOBl5ANx/pvUymyxqZ6/o9JKZ0O/AbwfyPihP3wmv1if733TwVuarvb935nOj7/EfFW4HTgI3t4bune+wa/3XsQOLrt66OAh3Z1TERMBxpkY6t39dxOXlOZqZx/IuIo4DrgbSml8b/6ppR+kV9vBq4la+9rZ/t87vPhzesBUko/IvuL+0n58Ue1Pd/3/q5N6b2fe8ZffX3vd2Qqn9G7+9z3vd+ZKf0bmf+R6Xrggyml77fuTyk9nDLbgc/ge39XpnT+W1MsUkpryeYUvxB4FGjmn1N7/Zp9ZH/8fvhm4LqU0lOtO3zvd6yj8x8RrwL+EHhd20iyynz2G/x27w7gxHw1qplkv0gNTThmCGit3nM58K18HO8QcGVkK+8dD5xINsGzk9dUZp/Pf0Q0yf7x/0BK6bbWwRExPSLm57dnAIuAH6OJpnLuD42IaQAR8Wyy9/7alNLDwOaIeFk+xPBtwLJe/DAVNJXPHiJiAPh1sjkK5Pf53u/MVD6jbwIuiojBiBgELgJu8r2/V/b5/OfHXwf8Q0ppyYTHjsyvg2yOje/9yU3l/A+2hhHmnzVnASvzz6VbyD6nIPvc8v3/TPvj98NnzOv2vd+xPZ7/iHghsJgs9K1re6g6n/3dXDmmDhfgNcC9ZF2LP8zv+xDZf3SAWcASssVbfgA8u+25f5g/bzVtq/hM9ppe9u/5Bz4IbAHuarscBhwI/Ai4m2zRl78CphX9c5bxMoVz/6b83C4H/g24tO01Tyf7R+enwN8AUfTPWdbLFD97zgW+P+H1fO/vv3P/ErK/5G4B1gP3tD336vy/yRqyoYat+33vd/n8A28FnprwuX9a/ti3gBX5f4N/Ag4q+ucs62UK5//l+Tlenl+/o+01n51/Tq3JP7cOKPrnLONlip89xwG/AAYmvKbv/f13/r8B/LLt82Wo7bmV+OyPvChJkiRJUk051FOSJEmSas7gJ0mSJEk1Z/CTJEmSpJoz+EmSJElSzRn8JEmSJKnmDH6SpMqLiNdFxPuLrmNXIuLWiDi9x9/z/ra9G7+XXx8XEb/RyzokSeVg8JMkVV5KaSil9OGi6yirlNLL85vHAQY/SepDBj9JUmnlHaqfRMSnIuLHEfH5iHhVRNwWEfdFxBn5cW+PiL/Jb382Iv46Ir4XEWsj4vJJXvfAiLg+Ipbnr3tFfv8fR8Qd+X3XRETk998aER+LiG9HxKqIeElE/HNew59OqPVzEXF3RHwlIuZM8r0viojbI+LfImJJRByU3//hiFiZP/cvJ3neKyPirvxyZ0QcHBHn5jVdlz/3ExHxjH/bI+Lx/OaHgVfkr/Heff3vIkmqHoOfJKnsngP8FfB84GSyjtXZwB8A/30XzzkyP2YRWdiZ6BLgoZTSC1JKpwBfy+//m5TSS/L7ZufPb3kypXQO8AlgGfBu4BTg7RExLz/mucA1KaXnA5uA32//pvnQyw8Cr0opvQj4IfC+iDgEeAOwMH/un05S8x8A704pnQa8Angiv/8M4L8ApwInAG/cxTkBeD/wnZTSaSmlj+3mOElSzRj8JEll97OU0oqU0hhwD/DNlFICVpANXZzM0pTSWEppJXD4JI+vAF4VEX8REa9IKW3M7z8vIv41IlYA5wML254z1Pbce1JKD6eUtgNrgaPzxx5IKd2W3/4nsvDZ7mXA84DbIuIu4CrgWLKQuA34VES8Edg6Sc23Af8nIv4T0Ewp7cjv/0FKaW1KaRT4wiTfU5Ikg58kqfS2t90ea/t6DJjewXNi4oMppXuBF5OFuD/Ph3jOAv4WuDyldCrwSWDWJK/ZXsPEOtLEbzXh6wBuzjtup6WUnpdSekce4s4A/h/wep7uQLbX/GHgt8k6kd+PiJM7/J6SJBn8JEn9JyIWAFtTSv8E/CXwIp4OeY/m8+6eMTewA8dExJn57bcA353w+PeBsyLiOXkdcyLipPz7NVJKNwD/GThtkppPyDuff0E2RLQV/M6IiOPzuX1XTPI9220GDt6Hn0uSVHG7+kupJEl1dirwkYgYA54Cfi+ltCEiPknWBbwfuGMfXncVcFVELAbuA/6u/cGU0khEvB34QkQckN/9QbJAtizvOgYw2cIr/zkizgNGgZXAjcCZwO1k8xhPBb4NXLeb+u4GdkTEcuCzzvOTpP4R2TQJSZI0FRFxHPDVfGGYXn3Pc4E/SCkt2tOxkqT+5lBPSZIkSao5O36SJEmSVHN2/CRJkiSp5gx+kiRJklRzBj9JkiRJqjmDnyRJkiTVnMFPkiRJkmrO4CdJkiRJNff/AXLlmqUBEtB2AAAAAElFTkSuQmCC\n",
      "text/plain": [
       "<Figure size 1080x720 with 1 Axes>"
      ]
     },
     "metadata": {
      "needs_background": "light"
     },
     "output_type": "display_data"
    }
   ],
   "source": [
    "min_samples_leaf = np.linspace(0.001, 0.2, 40)\n",
    "train_res = []\n",
    "test_res = []\n",
    "for n in min_samples_leaf:\n",
    "    dt = DecisionTreeClassifier(max_depth = 9, min_samples_split = 0.05, min_samples_leaf = n)\n",
    "    dt.fit(X_train, y_train)\n",
    "    \n",
    "    train_pred = dt.predict(X_train)\n",
    "    \n",
    "    fpr, tpr, t = roc_curve(y_train, train_pred)\n",
    "    roc_auc = auc(fpr, tpr)\n",
    "    train_res.append(roc_auc)\n",
    "    \n",
    "    y_pred = dt.predict(X_test)\n",
    "    fpr, tpr, t = roc_curve(y_test, y_pred)\n",
    "    roc_auc = auc(fpr, tpr)\n",
    "    test_res.append(roc_auc)\n",
    "\n",
    "f, ax = plt.subplots(figsize=(15, 10))\n",
    "train_line, = plt.plot(min_samples_leaf, train_res, 'b', label='Train AUC')\n",
    "test_line, = plt.plot(min_samples_leaf, test_res, 'r', label='Test AUC')\n",
    "plt.legend(handler_map={train_line: HandlerLine2D(numpoints=2)})\n",
    "plt.ylabel('AUC score')\n",
    "plt.xlabel('min samples split')\n",
    "plt.show()"
   ]
  },
  {
   "cell_type": "code",
   "execution_count": 151,
   "metadata": {},
   "outputs": [
    {
     "data": {
      "text/plain": [
       "{'accuracy': 0.8451511635842489,\n",
       " 'precision': 0.6983328090594526,\n",
       " 'recall': 0.6288951841359773,\n",
       " 'f_measure': 0.6617975853331345,\n",
       " 'sensitivity': 0.6288951841359773,\n",
       " 'specificity': 0.9137822529893015,\n",
       " 'error_rate': 0.1548488364157511}"
      ]
     },
     "execution_count": 151,
     "metadata": {},
     "output_type": "execute_result"
    }
   ],
   "source": [
    "tree_clf_4 = DecisionTreeClassifier(max_depth = 9, min_samples_split = 0.05, min_samples_leaf = 0.001)\n",
    "tree_clf_4.fit(X_train, y_train)\n",
    "tree_clf_4_pred = tree_clf_4.predict(X_test)\n",
    "tree4_res = model_eval(y_test, tree_clf_4_pred)\n",
    "tree4_res"
   ]
  },
  {
   "cell_type": "markdown",
   "metadata": {},
   "source": [
    "#### 4. Max_features- Comparing auto, sqrt, log2, and None"
   ]
  },
  {
   "cell_type": "code",
   "execution_count": 155,
   "metadata": {},
   "outputs": [
    {
     "data": {
      "image/png": "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\n",
      "text/plain": [
       "<Figure size 1080x720 with 1 Axes>"
      ]
     },
     "metadata": {
      "needs_background": "light"
     },
     "output_type": "display_data"
    }
   ],
   "source": [
    "features = ['auto','sqrt','log2',None]\n",
    "train_res = []\n",
    "test_res = []\n",
    "for n in features:\n",
    "    dt = DecisionTreeClassifier(max_depth = 9, min_samples_split = 0.05, min_samples_leaf = .001, max_features = n)\n",
    "    dt.fit(X_train, y_train)\n",
    "    \n",
    "    train_pred = dt.predict(X_train)\n",
    "    \n",
    "    fpr, tpr, t = roc_curve(y_train, train_pred)\n",
    "    roc_auc = auc(fpr, tpr)\n",
    "    train_res.append(roc_auc)\n",
    "    \n",
    "    y_pred = dt.predict(X_test)\n",
    "    fpr, tpr, t = roc_curve(y_test, y_pred)\n",
    "    roc_auc = auc(fpr, tpr)\n",
    "    test_res.append(roc_auc)\n",
    "\n",
    "f, ax = plt.subplots(figsize=(15, 10))\n",
    "train_line, = plt.plot(np.linspace(1, 4, 4), train_res, 'b', label='Train AUC')\n",
    "test_line, = plt.plot(np.linspace(1, 4, 4), test_res, 'r', label='Test AUC')\n",
    "plt.legend(handler_map={train_line: HandlerLine2D(numpoints=2)})\n",
    "plt.ylabel('AUC score')\n",
    "plt.xlabel('min samples split')\n",
    "plt.show()"
   ]
  },
  {
   "cell_type": "code",
   "execution_count": 156,
   "metadata": {},
   "outputs": [
    {
     "data": {
      "text/html": [
       "<div>\n",
       "<style scoped>\n",
       "    .dataframe tbody tr th:only-of-type {\n",
       "        vertical-align: middle;\n",
       "    }\n",
       "\n",
       "    .dataframe tbody tr th {\n",
       "        vertical-align: top;\n",
       "    }\n",
       "\n",
       "    .dataframe thead th {\n",
       "        text-align: right;\n",
       "    }\n",
       "</style>\n",
       "<table border=\"1\" class=\"dataframe\">\n",
       "  <thead>\n",
       "    <tr style=\"text-align: right;\">\n",
       "      <th></th>\n",
       "      <th>accuracy</th>\n",
       "      <th>precision</th>\n",
       "      <th>recall</th>\n",
       "      <th>f_measure</th>\n",
       "      <th>sensitivity</th>\n",
       "      <th>specificity</th>\n",
       "      <th>error_rate</th>\n",
       "    </tr>\n",
       "  </thead>\n",
       "  <tbody>\n",
       "    <tr>\n",
       "      <th>Tree 1</th>\n",
       "      <td>0.8262</td>\n",
       "      <td>0.7328</td>\n",
       "      <td>0.4382</td>\n",
       "      <td>0.5485</td>\n",
       "      <td>0.4382</td>\n",
       "      <td>0.9493</td>\n",
       "      <td>0.1738</td>\n",
       "    </tr>\n",
       "    <tr>\n",
       "      <th>Tree 2</th>\n",
       "      <td>0.8435</td>\n",
       "      <td>0.6841</td>\n",
       "      <td>0.6510</td>\n",
       "      <td>0.6672</td>\n",
       "      <td>0.6510</td>\n",
       "      <td>0.9046</td>\n",
       "      <td>0.1565</td>\n",
       "    </tr>\n",
       "    <tr>\n",
       "      <th>Tree 3</th>\n",
       "      <td>0.8452</td>\n",
       "      <td>0.6983</td>\n",
       "      <td>0.6289</td>\n",
       "      <td>0.6618</td>\n",
       "      <td>0.6289</td>\n",
       "      <td>0.9138</td>\n",
       "      <td>0.1548</td>\n",
       "    </tr>\n",
       "    <tr>\n",
       "      <th>Tree 4</th>\n",
       "      <td>0.8452</td>\n",
       "      <td>0.6983</td>\n",
       "      <td>0.6289</td>\n",
       "      <td>0.6618</td>\n",
       "      <td>0.6289</td>\n",
       "      <td>0.9138</td>\n",
       "      <td>0.1548</td>\n",
       "    </tr>\n",
       "  </tbody>\n",
       "</table>\n",
       "</div>"
      ],
      "text/plain": [
       "        accuracy  precision  recall  f_measure  sensitivity  specificity  \\\n",
       "Tree 1    0.8262     0.7328  0.4382     0.5485       0.4382       0.9493   \n",
       "Tree 2    0.8435     0.6841  0.6510     0.6672       0.6510       0.9046   \n",
       "Tree 3    0.8452     0.6983  0.6289     0.6618       0.6289       0.9138   \n",
       "Tree 4    0.8452     0.6983  0.6289     0.6618       0.6289       0.9138   \n",
       "\n",
       "        error_rate  \n",
       "Tree 1      0.1738  \n",
       "Tree 2      0.1565  \n",
       "Tree 3      0.1548  \n",
       "Tree 4      0.1548  "
      ]
     },
     "execution_count": 156,
     "metadata": {},
     "output_type": "execute_result"
    }
   ],
   "source": [
    "overall_model = round(pd.DataFrame([tree1_res, tree2_res,tree3_res, tree4_res], index = ['Tree 1','Tree 2', 'Tree 3', 'Tree 4']),4)\n",
    "overall_model"
   ]
  },
  {
   "cell_type": "code",
   "execution_count": 157,
   "metadata": {},
   "outputs": [],
   "source": [
>>>>>>> dbdc02e1762b98da432f4942fdf287d0f861642b
    "graph = Source( tree.export_graphviz(tree_clf_4, out_file = None,\n",
    "                                     feature_names = adult_data.columns,\n",
    "                                     class_names = adult['class'].unique()))\n",
    "\n",
    "#Save Tree as PNG\n",
    "png_bytes = graph.pipe(format='png')\n",
    "with open('Tuned_tree.png','wb') as f:\n",
    "    f.write(png_bytes)"
   ]
  },
  {
   "cell_type": "code",
   "execution_count": null,
   "metadata": {},
   "outputs": [],
   "source": []
  },
  {
   "cell_type": "markdown",
   "metadata": {},
   "source": [
    "## Building Random Forest"
   ]
  },
  {
   "cell_type": "code",
<<<<<<< HEAD
   "execution_count": 22,
=======
   "execution_count": 165,
>>>>>>> dbdc02e1762b98da432f4942fdf287d0f861642b
   "metadata": {},
   "outputs": [
    {
     "name": "stderr",
     "output_type": "stream",
     "text": [
<<<<<<< HEAD
      "C:\\Users\\Chung-Tseng Wang\\Anaconda3\\lib\\site-packages\\ipykernel_launcher.py:3: DataConversionWarning: A column-vector y was passed when a 1d array was expected. Please change the shape of y to (n_samples,), for example using ravel().\n",
=======
      "/Users/chung-tsengwang/anaconda3/lib/python3.6/site-packages/sklearn/ensemble/forest.py:245: FutureWarning: The default value of n_estimators will change from 10 in version 0.20 to 100 in 0.22.\n",
      "  \"10 in version 0.20 to 100 in 0.22.\", FutureWarning)\n",
      "/Users/chung-tsengwang/anaconda3/lib/python3.6/site-packages/ipykernel_launcher.py:3: DataConversionWarning: A column-vector y was passed when a 1d array was expected. Please change the shape of y to (n_samples,), for example using ravel().\n",
>>>>>>> dbdc02e1762b98da432f4942fdf287d0f861642b
      "  This is separate from the ipykernel package so we can avoid doing imports until\n"
     ]
    }
   ],
   "source": [
    "from sklearn.ensemble import RandomForestClassifier\n",
    "forest_clf = RandomForestClassifier(random_state = 21)\n",
    "forest_clf.fit(X_train, y_train)\n",
    "forest1_pred = forest_clf.predict(X_test)"
   ]
  },
  {
   "cell_type": "code",
<<<<<<< HEAD
   "execution_count": 23,
=======
   "execution_count": 169,
   "metadata": {},
   "outputs": [
    {
     "data": {
      "text/plain": [
       "{'bootstrap': True,\n",
       " 'class_weight': None,\n",
       " 'criterion': 'gini',\n",
       " 'max_depth': None,\n",
       " 'max_features': 'auto',\n",
       " 'max_leaf_nodes': None,\n",
       " 'min_impurity_decrease': 0.0,\n",
       " 'min_impurity_split': None,\n",
       " 'min_samples_leaf': 1,\n",
       " 'min_samples_split': 2,\n",
       " 'min_weight_fraction_leaf': 0.0,\n",
       " 'n_estimators': 10,\n",
       " 'n_jobs': None,\n",
       " 'oob_score': False,\n",
       " 'random_state': 21,\n",
       " 'verbose': 0,\n",
       " 'warm_start': False}"
      ]
     },
     "execution_count": 169,
     "metadata": {},
     "output_type": "execute_result"
    }
   ],
   "source": [
    "forest_clf.get_params()"
   ]
  },
  {
   "cell_type": "code",
   "execution_count": 167,
>>>>>>> dbdc02e1762b98da432f4942fdf287d0f861642b
   "metadata": {},
   "outputs": [
    {
     "data": {
      "text/plain": [
<<<<<<< HEAD
       "{'bootstrap': True,\n",
       " 'class_weight': None,\n",
       " 'criterion': 'gini',\n",
       " 'max_depth': None,\n",
       " 'max_features': 'auto',\n",
       " 'max_leaf_nodes': None,\n",
       " 'min_impurity_decrease': 0.0,\n",
       " 'min_impurity_split': None,\n",
       " 'min_samples_leaf': 1,\n",
       " 'min_samples_split': 2,\n",
       " 'min_weight_fraction_leaf': 0.0,\n",
       " 'n_estimators': 10,\n",
       " 'n_jobs': 1,\n",
       " 'oob_score': False,\n",
       " 'random_state': 21,\n",
       " 'verbose': 0,\n",
       " 'warm_start': False}"
      ]
     },
     "execution_count": 23,
=======
       "{'accuracy': 0.8336176892104006,\n",
       " 'precision': 0.686858316221766,\n",
       " 'recall': 0.5685552407932011,\n",
       " 'f_measure': 0.6221326720396776,\n",
       " 'sensitivity': 0.5685552407932011,\n",
       " 'specificity': 0.9177380203182595,\n",
       " 'error_rate': 0.16638231078959942}"
      ]
     },
     "execution_count": 167,
>>>>>>> dbdc02e1762b98da432f4942fdf287d0f861642b
     "metadata": {},
     "output_type": "execute_result"
    }
   ],
   "source": [
<<<<<<< HEAD
    "forest_clf.get_params()"
=======
    "model_eval(y_test, forest1_pred)"
   ]
  },
  {
   "cell_type": "markdown",
   "metadata": {},
   "source": [
    "### Hyperparameter Tuning \n",
    "Parameters to tune: n_estimators, max_depth, min_samples_split, min_samples_leaf, max_features"
   ]
  },
  {
   "cell_type": "markdown",
   "metadata": {},
   "source": [
    "We will use RandomizedSearchCV to find the best combination of all the hyperparameters"
   ]
  },
  {
   "cell_type": "code",
   "execution_count": 176,
   "metadata": {},
   "outputs": [
    {
     "name": "stdout",
     "output_type": "stream",
     "text": [
      "{'n_estimators': [10, 20, 30, 40, 50, 60, 70, 80, 90, 100, 110, 120, 130, 140, 150, 160, 170, 180, 190, 200, 210, 220, 230, 240, 250, 260, 270, 280, 290, 300, 310, 320, 330, 340, 350, 360, 370, 380, 390, 400, 410, 420, 430, 440, 450, 460, 470, 480, 490, 500], 'max_features': ['auto', 'sqrt', 'log2', None], 'max_depth': [1, 2, 3, 4, 5, 6, 7, 8, 9, 10, 11, 12, 13, 14, 15, 16, 17, 18, 19, 20, 21, 22, 23, 24, 25, 26, 27, 28, 29, 30, 31, 32, 33, 34, 35, 36, 37, 38, 39, 40, 41, 42, 43, 44, 45, 46, 47, 48, 49, 50, None], 'min_samples_split': array([0.01, 0.02, 0.03, 0.04, 0.05, 0.06, 0.07, 0.08, 0.09, 0.1 , 0.11,\n",
      "       0.12, 0.13, 0.14, 0.15, 0.16, 0.17, 0.18, 0.19, 0.2 ]), 'min_samples_leaf': array([0.01, 0.02, 0.03, 0.04, 0.05, 0.06, 0.07, 0.08, 0.09, 0.1 , 0.11,\n",
      "       0.12, 0.13, 0.14, 0.15, 0.16, 0.17, 0.18, 0.19, 0.2 ]), 'bootstrap': [True, False]}\n"
     ]
    }
   ],
   "source": [
    "#Setting up list of features to test\n",
    "n_estimators = [int(x) for x in np.linspace(10,500,50)]\n",
    "max_features = ['auto','sqrt','log2', None]\n",
    "max_depth = [int(x) for x in np.linspace(1,50,50)]\n",
    "max_depth.append(None)\n",
    "min_samples_split = np.linspace(0.01, 0.2, 20)\n",
    "min_samples_leaf = np.linspace(0.01, 0.2, 20)\n",
    "bootstrap = [True, False]\n",
    "\n",
    "#Create Random Grid \n",
    "random_grid = {'n_estimators': n_estimators,\n",
    "               'max_features': max_features,\n",
    "               'max_depth': max_depth,\n",
    "               'min_samples_split': min_samples_split,\n",
    "               'min_samples_leaf': min_samples_leaf,\n",
    "               'bootstrap': bootstrap}\n",
    "print(random_grid)"
   ]
  },
  {
   "cell_type": "code",
   "execution_count": 178,
   "metadata": {
    "scrolled": true
   },
   "outputs": [
    {
     "name": "stdout",
     "output_type": "stream",
     "text": [
      "Fitting 3 folds for each of 200 candidates, totalling 600 fits\n"
     ]
    },
    {
     "name": "stderr",
     "output_type": "stream",
     "text": [
      "[Parallel(n_jobs=-1)]: Using backend LokyBackend with 4 concurrent workers.\n",
      "[Parallel(n_jobs=-1)]: Done  33 tasks      | elapsed:  1.4min\n",
      "[Parallel(n_jobs=-1)]: Done 154 tasks      | elapsed:  5.9min\n",
      "[Parallel(n_jobs=-1)]: Done 357 tasks      | elapsed: 12.3min\n",
      "[Parallel(n_jobs=-1)]: Done 600 out of 600 | elapsed: 20.1min finished\n",
      "/Users/chung-tsengwang/anaconda3/lib/python3.6/site-packages/sklearn/model_selection/_search.py:714: DataConversionWarning: A column-vector y was passed when a 1d array was expected. Please change the shape of y to (n_samples,), for example using ravel().\n",
      "  self.best_estimator_.fit(X, y, **fit_params)\n"
     ]
    },
    {
     "data": {
      "text/plain": [
       "RandomizedSearchCV(cv=3, error_score='raise-deprecating',\n",
       "                   estimator=RandomForestClassifier(bootstrap=True,\n",
       "                                                    class_weight=None,\n",
       "                                                    criterion='gini',\n",
       "                                                    max_depth=None,\n",
       "                                                    max_features='auto',\n",
       "                                                    max_leaf_nodes=None,\n",
       "                                                    min_impurity_decrease=0.0,\n",
       "                                                    min_impurity_split=None,\n",
       "                                                    min_samples_leaf=1,\n",
       "                                                    min_samples_split=2,\n",
       "                                                    min_weight_fraction_leaf=0.0,\n",
       "                                                    n_estimators='warn',\n",
       "                                                    n_jobs=None,\n",
       "                                                    oob_sc...\n",
       "                                        'min_samples_split': array([0.01, 0.02, 0.03, 0.04, 0.05, 0.06, 0.07, 0.08, 0.09, 0.1 , 0.11,\n",
       "       0.12, 0.13, 0.14, 0.15, 0.16, 0.17, 0.18, 0.19, 0.2 ]),\n",
       "                                        'n_estimators': [10, 20, 30, 40, 50, 60,\n",
       "                                                         70, 80, 90, 100, 110,\n",
       "                                                         120, 130, 140, 150,\n",
       "                                                         160, 170, 180, 190,\n",
       "                                                         200, 210, 220, 230,\n",
       "                                                         240, 250, 260, 270,\n",
       "                                                         280, 290, 300, ...]},\n",
       "                   pre_dispatch='2*n_jobs', random_state=42, refit=True,\n",
       "                   return_train_score=False, scoring=None, verbose=2)"
      ]
     },
     "execution_count": 178,
     "metadata": {},
     "output_type": "execute_result"
    }
   ],
   "source": [
    "from sklearn.model_selection import RandomizedSearchCV\n",
    "\n",
    "#Random search of parameters, using 3 fold CV, and 200 iterations\n",
    "rf = RandomForestClassifier()\n",
    "rf_rs = RandomizedSearchCV(estimator = rf, param_distributions = random_grid,\n",
    "                          n_iter = 200, cv = 3, verbose = 2, random_state = 42, n_jobs = -1\n",
    "                          )\n",
    "rf_rs.fit(X_train, y_train)"
   ]
  },
  {
   "cell_type": "code",
   "execution_count": 180,
   "metadata": {},
   "outputs": [
    {
     "data": {
      "text/plain": [
       "{'n_estimators': 200,\n",
       " 'min_samples_split': 0.03,\n",
       " 'min_samples_leaf': 0.01,\n",
       " 'max_features': None,\n",
       " 'max_depth': 36,\n",
       " 'bootstrap': False}"
      ]
     },
     "execution_count": 180,
     "metadata": {},
     "output_type": "execute_result"
    }
   ],
   "source": [
    "rf_rs.best_params_"
   ]
  },
  {
   "cell_type": "code",
   "execution_count": 183,
   "metadata": {},
   "outputs": [
    {
     "name": "stderr",
     "output_type": "stream",
     "text": [
      "/Users/chung-tsengwang/anaconda3/lib/python3.6/site-packages/ipykernel_launcher.py:9: DataConversionWarning: A column-vector y was passed when a 1d array was expected. Please change the shape of y to (n_samples,), for example using ravel().\n",
      "  if __name__ == '__main__':\n"
     ]
    }
   ],
   "source": [
    "#Evalusate Random Search\n",
    "forest_clf = RandomForestClassifier(n_estimators = 200,\n",
    "                                    min_samples_split = 0.03,\n",
    "                                    min_samples_leaf = 0.01,\n",
    "                                    max_features = None,\n",
    "                                    max_depth = 36,\n",
    "                                    bootstrap = False,\n",
    "                                    random_state = 21)\n",
    "forest_clf.fit(X_train, y_train)\n",
    "forest2_pred = forest_clf.predict(X_test)"
   ]
  },
  {
   "cell_type": "code",
   "execution_count": 184,
   "metadata": {},
   "outputs": [
    {
     "data": {
      "text/plain": [
       "{'accuracy': 0.8387360949976114,\n",
       " 'precision': 0.7007223942208463,\n",
       " 'recall': 0.5770538243626062,\n",
       " 'f_measure': 0.6329035264874942,\n",
       " 'sensitivity': 0.5770538243626062,\n",
       " 'specificity': 0.9217836914501484,\n",
       " 'error_rate': 0.16126390500238863}"
      ]
     },
     "execution_count": 184,
     "metadata": {},
     "output_type": "execute_result"
    }
   ],
   "source": [
    "model_eval(y_test, forest2_pred)"
   ]
  },
  {
   "cell_type": "markdown",
   "metadata": {},
   "source": [
    "Use GridSearch CV to narrow the search"
>>>>>>> dbdc02e1762b98da432f4942fdf287d0f861642b
   ]
  },
  {
   "cell_type": "code",
   "execution_count": 91,
   "metadata": {},
   "outputs": [],
   "source": [
    "rf1_res = model_eval(y_test, forest1_pred)"
   ]
  },
  {
   "cell_type": "markdown",
   "metadata": {},
   "source": [
    "### Hyperparameter Tuning \n",
    "Parameters to tune: n_estimators, max_depth, min_samples_split, min_samples_leaf, max_features"
   ]
  },
  {
   "cell_type": "markdown",
   "metadata": {},
   "source": [
    "We will use RandomizedSearchCV to find the best combination of all the hyperparameters"
   ]
  },
  {
   "cell_type": "code",
   "execution_count": 25,
   "metadata": {},
   "outputs": [
    {
     "name": "stdout",
     "output_type": "stream",
     "text": [
      "{'n_estimators': [10, 20, 30, 40, 50, 60, 70, 80, 90, 100, 110, 120, 130, 140, 150, 160, 170, 180, 190, 200, 210, 220, 230, 240, 250, 260, 270, 280, 290, 300, 310, 320, 330, 340, 350, 360, 370, 380, 390, 400, 410, 420, 430, 440, 450, 460, 470, 480, 490, 500], 'max_features': ['auto', 'sqrt', 'log2', None], 'max_depth': [1, 2, 3, 4, 5, 6, 7, 8, 9, 10, 11, 12, 13, 14, 15, 16, 17, 18, 19, 20, 21, 22, 23, 24, 25, 26, 27, 28, 29, 30, 31, 32, 33, 34, 35, 36, 37, 38, 39, 40, 41, 42, 43, 44, 45, 46, 47, 48, 49, 50, None], 'min_samples_split': array([0.01, 0.02, 0.03, 0.04, 0.05, 0.06, 0.07, 0.08, 0.09, 0.1 , 0.11,\n",
      "       0.12, 0.13, 0.14, 0.15, 0.16, 0.17, 0.18, 0.19, 0.2 ]), 'min_samples_leaf': array([0.01, 0.02, 0.03, 0.04, 0.05, 0.06, 0.07, 0.08, 0.09, 0.1 , 0.11,\n",
      "       0.12, 0.13, 0.14, 0.15, 0.16, 0.17, 0.18, 0.19, 0.2 ]), 'bootstrap': [True, False]}\n"
     ]
    }
   ],
   "source": [
    "#Setting up list of features to test\n",
    "n_estimators = [int(x) for x in np.linspace(10,500,50)]\n",
    "max_features = ['auto','sqrt','log2', None]\n",
    "max_depth = [int(x) for x in np.linspace(1,50,50)]\n",
    "max_depth.append(None)\n",
    "min_samples_split = np.linspace(0.01, 0.2, 20)\n",
    "min_samples_leaf = np.linspace(0.01, 0.2, 20)\n",
    "bootstrap = [True, False]\n",
    "\n",
    "#Create Random Grid \n",
    "random_grid = {'n_estimators': n_estimators,\n",
    "               'max_features': max_features,\n",
    "               'max_depth': max_depth,\n",
    "               'min_samples_split': min_samples_split,\n",
    "               'min_samples_leaf': min_samples_leaf,\n",
    "               'bootstrap': bootstrap}\n",
    "print(random_grid)"
   ]
  },
  {
   "cell_type": "code",
   "execution_count": 26,
   "metadata": {
    "scrolled": true
   },
   "outputs": [
    {
     "name": "stdout",
     "output_type": "stream",
     "text": [
      "Fitting 3 folds for each of 200 candidates, totalling 600 fits\n"
     ]
    },
    {
     "name": "stderr",
     "output_type": "stream",
     "text": [
      "[Parallel(n_jobs=-1)]: Done  25 tasks      | elapsed:   26.1s\n",
      "[Parallel(n_jobs=-1)]: Done 146 tasks      | elapsed:  1.9min\n",
      "[Parallel(n_jobs=-1)]: Done 349 tasks      | elapsed:  4.2min\n",
      "[Parallel(n_jobs=-1)]: Done 600 out of 600 | elapsed:  7.3min finished\n",
      "C:\\Users\\Chung-Tseng Wang\\Anaconda3\\lib\\site-packages\\sklearn\\model_selection\\_search.py:739: DataConversionWarning: A column-vector y was passed when a 1d array was expected. Please change the shape of y to (n_samples,), for example using ravel().\n",
      "  self.best_estimator_.fit(X, y, **fit_params)\n"
     ]
    },
    {
     "data": {
      "text/plain": [
       "RandomizedSearchCV(cv=3, error_score='raise',\n",
       "          estimator=RandomForestClassifier(bootstrap=True, class_weight=None, criterion='gini',\n",
       "            max_depth=None, max_features='auto', max_leaf_nodes=None,\n",
       "            min_impurity_decrease=0.0, min_impurity_split=None,\n",
       "            min_samples_leaf=1, min_samples_split=2,\n",
       "            min_weight_fraction_leaf=0.0, n_estimators=10, n_jobs=1,\n",
       "            oob_score=False, random_state=None, verbose=0,\n",
       "            warm_start=False),\n",
       "          fit_params=None, iid=True, n_iter=200, n_jobs=-1,\n",
       "          param_distributions={'n_estimators': [10, 20, 30, 40, 50, 60, 70, 80, 90, 100, 110, 120, 130, 140, 150, 160, 170, 180, 190, 200, 210, 220, 230, 240, 250, 260, 270, 280, 290, 300, 310, 320, 330, 340, 350, 360, 370, 380, 390, 400, 410, 420, 430, 440, 450, 460, 470, 480, 490, 500], 'max_features': ['au...1 , 0.11,\n",
       "       0.12, 0.13, 0.14, 0.15, 0.16, 0.17, 0.18, 0.19, 0.2 ]), 'bootstrap': [True, False]},\n",
       "          pre_dispatch='2*n_jobs', random_state=42, refit=True,\n",
       "          return_train_score='warn', scoring=None, verbose=2)"
      ]
     },
     "execution_count": 26,
     "metadata": {},
     "output_type": "execute_result"
    }
   ],
   "source": [
    "from sklearn.model_selection import RandomizedSearchCV\n",
    "\n",
    "#Random search of parameters, using 3 fold CV, and 200 iterations\n",
    "rf = RandomForestClassifier()\n",
    "rf_rs = RandomizedSearchCV(estimator = rf, param_distributions = random_grid,\n",
    "                          n_iter = 200, cv = 3, verbose = 2, random_state = 42, n_jobs = -1\n",
    "                          )\n",
    "rf_rs.fit(X_train, y_train)"
   ]
  },
  {
   "cell_type": "code",
   "execution_count": 27,
   "metadata": {},
   "outputs": [
    {
     "data": {
      "text/plain": [
       "{'n_estimators': 200,\n",
       " 'min_samples_split': 0.03,\n",
       " 'min_samples_leaf': 0.01,\n",
       " 'max_features': None,\n",
       " 'max_depth': 36,\n",
       " 'bootstrap': False}"
      ]
     },
     "execution_count": 27,
     "metadata": {},
     "output_type": "execute_result"
    }
   ],
   "source": [
    "rf_rs.best_params_"
   ]
  },
  {
   "cell_type": "code",
   "execution_count": 28,
   "metadata": {},
   "outputs": [
    {
     "name": "stderr",
     "output_type": "stream",
     "text": [
      "C:\\Users\\Chung-Tseng Wang\\Anaconda3\\lib\\site-packages\\ipykernel_launcher.py:9: DataConversionWarning: A column-vector y was passed when a 1d array was expected. Please change the shape of y to (n_samples,), for example using ravel().\n",
      "  if __name__ == '__main__':\n"
     ]
    }
   ],
   "source": [
    "#Evalusate Random Search\n",
    "forest_clf = RandomForestClassifier(n_estimators = 200,\n",
    "                                    min_samples_split = 0.03,\n",
    "                                    min_samples_leaf = 0.01,\n",
    "                                    max_features = None,\n",
    "                                    max_depth = 36,\n",
    "                                    bootstrap = False,\n",
    "                                    random_state = 21)\n",
    "forest_clf.fit(X_train, y_train)\n",
    "forest2_pred = forest_clf.predict(X_test)"
   ]
  },
  {
   "cell_type": "code",
   "execution_count": 93,
   "metadata": {},
   "outputs": [],
   "source": [
    "rf2_res = model_eval(y_test, forest2_pred)"
   ]
  },
  {
   "cell_type": "markdown",
   "metadata": {},
   "source": [
    "Use GridSearch CV to narrow the search"
   ]
  },
  {
   "cell_type": "code",
   "execution_count": 85,
   "metadata": {},
   "outputs": [],
   "source": [
    "from sklearn.model_selection import GridSearchCV \n",
    "param_grid = {\n",
    "    'bootstrap': [False],\n",
    "    'max_depth': [34,35,36,37,38],\n",
    "    'max_features': [None],\n",
    "    'min_samples_leaf': [0.005,0.1,0.15],\n",
    "    'min_samples_split': [0.01,0.02,0.03,0.04,0.05],\n",
    "    'n_estimators': [180,190,200,210,220]}"
   ]
  },
  {
   "cell_type": "code",
   "execution_count": 86,
   "metadata": {},
   "outputs": [
    {
     "name": "stdout",
     "output_type": "stream",
     "text": [
      "Fitting 3 folds for each of 375 candidates, totalling 1125 fits\n"
     ]
    },
    {
     "name": "stderr",
     "output_type": "stream",
     "text": [
      "[Parallel(n_jobs=-1)]: Done  25 tasks      | elapsed:  3.1min\n",
      "[Parallel(n_jobs=-1)]: Done 146 tasks      | elapsed:  8.9min\n",
      "[Parallel(n_jobs=-1)]: Done 349 tasks      | elapsed: 18.8min\n",
      "[Parallel(n_jobs=-1)]: Done 632 tasks      | elapsed: 30.8min\n",
      "[Parallel(n_jobs=-1)]: Done 997 tasks      | elapsed: 49.9min\n",
      "[Parallel(n_jobs=-1)]: Done 1125 out of 1125 | elapsed: 53.0min finished\n",
      "C:\\Users\\Chung-Tseng Wang\\Anaconda3\\lib\\site-packages\\sklearn\\model_selection\\_search.py:739: DataConversionWarning: A column-vector y was passed when a 1d array was expected. Please change the shape of y to (n_samples,), for example using ravel().\n",
      "  self.best_estimator_.fit(X, y, **fit_params)\n"
     ]
    },
    {
     "data": {
      "text/plain": [
       "GridSearchCV(cv=3, error_score='raise',\n",
       "       estimator=RandomForestClassifier(bootstrap=True, class_weight=None, criterion='gini',\n",
       "            max_depth=None, max_features='auto', max_leaf_nodes=None,\n",
       "            min_impurity_decrease=0.0, min_impurity_split=None,\n",
       "            min_samples_leaf=1, min_samples_split=2,\n",
       "            min_weight_fraction_leaf=0.0, n_estimators=10, n_jobs=1,\n",
       "            oob_score=False, random_state=None, verbose=0,\n",
       "            warm_start=False),\n",
       "       fit_params=None, iid=True, n_jobs=-1,\n",
       "       param_grid={'bootstrap': [False], 'max_depth': [34, 35, 36, 37, 38], 'max_features': [None], 'min_samples_leaf': [0.005, 0.1, 0.15], 'min_samples_split': [0.01, 0.02, 0.03, 0.04, 0.05], 'n_estimators': [180, 190, 200, 210, 220]},\n",
       "       pre_dispatch='2*n_jobs', refit=True, return_train_score='warn',\n",
       "       scoring=None, verbose=2)"
      ]
     },
     "execution_count": 86,
     "metadata": {},
     "output_type": "execute_result"
    }
   ],
   "source": [
    "rf_gs = GridSearchCV(estimator = rf, param_grid = param_grid, cv = 3, n_jobs = -1, verbose = 2)\n",
    "rf_gs.fit(X_train, y_train)"
   ]
  },
  {
   "cell_type": "code",
   "execution_count": 87,
   "metadata": {},
   "outputs": [
    {
     "data": {
      "text/plain": [
       "{'bootstrap': False,\n",
       " 'max_depth': 34,\n",
       " 'max_features': None,\n",
       " 'min_samples_leaf': 0.005,\n",
       " 'min_samples_split': 0.01,\n",
       " 'n_estimators': 180}"
      ]
     },
     "execution_count": 87,
     "metadata": {},
     "output_type": "execute_result"
    }
   ],
   "source": [
    "rf_gs.best_params_"
   ]
  },
  {
   "cell_type": "code",
   "execution_count": 88,
   "metadata": {},
   "outputs": [
    {
     "name": "stderr",
     "output_type": "stream",
     "text": [
      "C:\\Users\\Chung-Tseng Wang\\Anaconda3\\lib\\site-packages\\ipykernel_launcher.py:8: DataConversionWarning: A column-vector y was passed when a 1d array was expected. Please change the shape of y to (n_samples,), for example using ravel().\n",
      "  \n"
     ]
    }
   ],
   "source": [
    "forest_clf_2 = RandomForestClassifier(n_estimators = 180,\n",
    "                                    min_samples_split = 0.01,\n",
    "                                    min_samples_leaf = 0.005,\n",
    "                                    max_features = None,\n",
    "                                    max_depth = 34,\n",
    "                                    bootstrap = False,\n",
    "                                    random_state = 123)\n",
    "forest_clf_2.fit(X_train, y_train)\n",
    "forest3_pred = forest_clf.predict(X_test)"
   ]
  },
  {
   "cell_type": "code",
   "execution_count": 90,
   "metadata": {},
   "outputs": [],
   "source": [
    "rf3_res = model_eval(y_test, forest3_pred)"
   ]
  },
  {
   "cell_type": "code",
   "execution_count": 94,
   "metadata": {},
   "outputs": [
    {
     "data": {
      "text/html": [
       "<div>\n",
       "<style scoped>\n",
       "    .dataframe tbody tr th:only-of-type {\n",
       "        vertical-align: middle;\n",
       "    }\n",
       "\n",
       "    .dataframe tbody tr th {\n",
       "        vertical-align: top;\n",
       "    }\n",
       "\n",
       "    .dataframe thead th {\n",
       "        text-align: right;\n",
       "    }\n",
       "</style>\n",
       "<table border=\"1\" class=\"dataframe\">\n",
       "  <thead>\n",
       "    <tr style=\"text-align: right;\">\n",
       "      <th></th>\n",
       "      <th>accuracy</th>\n",
       "      <th>error_rate</th>\n",
       "      <th>f_measure</th>\n",
       "      <th>precision</th>\n",
       "      <th>recall</th>\n",
       "      <th>sensitivity</th>\n",
       "      <th>specificity</th>\n",
       "    </tr>\n",
       "  </thead>\n",
       "  <tbody>\n",
       "    <tr>\n",
       "      <th>Random Forest 1</th>\n",
       "      <td>0.8336</td>\n",
       "      <td>0.1664</td>\n",
       "      <td>0.6221</td>\n",
       "      <td>0.6869</td>\n",
       "      <td>0.5686</td>\n",
       "      <td>0.5686</td>\n",
       "      <td>0.9177</td>\n",
       "    </tr>\n",
       "    <tr>\n",
       "      <th>Random Forest 2</th>\n",
       "      <td>0.8387</td>\n",
       "      <td>0.1613</td>\n",
       "      <td>0.6329</td>\n",
       "      <td>0.7007</td>\n",
       "      <td>0.5771</td>\n",
       "      <td>0.5771</td>\n",
       "      <td>0.9218</td>\n",
       "    </tr>\n",
       "    <tr>\n",
       "      <th>Random Forest 3</th>\n",
       "      <td>0.8387</td>\n",
       "      <td>0.1613</td>\n",
       "      <td>0.6329</td>\n",
       "      <td>0.7007</td>\n",
       "      <td>0.5771</td>\n",
       "      <td>0.5771</td>\n",
       "      <td>0.9218</td>\n",
       "    </tr>\n",
       "  </tbody>\n",
       "</table>\n",
       "</div>"
      ],
      "text/plain": [
       "                 accuracy  error_rate  f_measure  precision  recall  \\\n",
       "Random Forest 1    0.8336      0.1664     0.6221     0.6869  0.5686   \n",
       "Random Forest 2    0.8387      0.1613     0.6329     0.7007  0.5771   \n",
       "Random Forest 3    0.8387      0.1613     0.6329     0.7007  0.5771   \n",
       "\n",
       "                 sensitivity  specificity  \n",
       "Random Forest 1       0.5686       0.9177  \n",
       "Random Forest 2       0.5771       0.9218  \n",
       "Random Forest 3       0.5771       0.9218  "
      ]
     },
     "execution_count": 94,
     "metadata": {},
     "output_type": "execute_result"
    }
   ],
   "source": [
    "overall_model = round(pd.DataFrame([rf1_res, rf2_res,rf3_res], index = ['Random Forest 1','Random Forest 2', 'Random Forest 3']),4)\n",
    "overall_model"
   ]
  },
  {
   "cell_type": "code",
   "execution_count": null,
   "metadata": {},
   "outputs": [],
   "source": []
  }
 ],
 "metadata": {
  "kernelspec": {
   "display_name": "Python 3",
   "language": "python",
   "name": "python3"
  },
  "language_info": {
   "codemirror_mode": {
    "name": "ipython",
    "version": 3
   },
   "file_extension": ".py",
   "mimetype": "text/x-python",
   "name": "python",
   "nbconvert_exporter": "python",
   "pygments_lexer": "ipython3",
   "version": "3.6.9"
  }
 },
 "nbformat": 4,
 "nbformat_minor": 2
}
